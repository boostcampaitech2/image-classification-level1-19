{
 "cells": [
  {
   "cell_type": "markdown",
   "id": "343417f0-4e7c-489f-996d-8acce4ee7dec",
   "metadata": {},
   "source": [
    "## EfficientNet"
   ]
  },
  {
   "cell_type": "code",
   "execution_count": 19,
   "id": "1a56b654-5f19-42af-9068-0080335c9f0b",
   "metadata": {},
   "outputs": [],
   "source": [
    "import time\n",
    "import torch\n",
    "import torch.nn as nn\n",
    "import torch.optim as optim\n",
    "import torchvision.datasets as dset\n",
    "import torchvision.transforms as T\n",
    "import numpy as np\n",
    "import os\n",
    "import copy\n",
    "from cv2 import cv2\n",
    "import matplotlib.pyplot as plt\n",
    "\n",
    "from torchvision.transforms import Compose, Resize, ToTensor\n",
    "from torch.utils.data import DataLoader\n",
    "from torch.utils.data import sampler\n",
    "from torch.optim import lr_scheduler\n",
    "from torch import Tensor\n",
    "from torchsummary import summary\n",
    "from tqdm import tqdm\n",
    "from sklearn.model_selection import train_test_split\n",
    "\n",
    "# custom module\n",
    "from new.new_dataset import CustomDataset\n",
    "from new.new_utils import is_val_loss_decreasing, check_image, check_loader, get_transformer\n",
    "from new.new_model import EnsembleModel, MaskModel\n",
    "from new.new_inference import test_prediction\n",
    "from new.new_dataset import CustomDataset, MaskDataset"
   ]
  },
  {
   "cell_type": "code",
   "execution_count": 13,
   "id": "9d856bb7-0a88-4cea-8204-48cfee15ddf3",
   "metadata": {},
   "outputs": [
    {
     "name": "stdout",
     "output_type": "stream",
     "text": [
      "Loaded pretrained weights for efficientnet-b2\n"
     ]
    }
   ],
   "source": [
    "from efficientnet_pytorch import EfficientNet\n",
    "model = EfficientNet.from_pretrained('efficientnet-b2')"
   ]
  },
  {
   "cell_type": "code",
   "execution_count": 16,
   "id": "eeca3bb9-21a0-43af-986c-5290694e56c0",
   "metadata": {},
   "outputs": [],
   "source": [
    "# freeze\n",
    "for n, p in model.named_parameters():\n",
    "    if '_fc' not in n:\n",
    "        p.requires_grad = False"
   ]
  },
  {
   "cell_type": "code",
   "execution_count": 8,
   "id": "61bfff01-fef9-4744-9055-f1bd43378cbd",
   "metadata": {},
   "outputs": [],
   "source": [
    "root = '../input/data'\n",
    "\n",
    "transform = get_transformer(False)\n",
    "train_ds = CustomDataset(root, transform['origin'], category='age')\n",
    "test_ds = MaskDataset(root, transform['origin'], train=False)\n",
    "\n",
    "train, val = train_test_split(train_ds, test_size=0.1, shuffle=True, random_state=43)\n",
    "\n",
    "batch_size = 128\n",
    "loaders = {\n",
    "    'train': DataLoader(train, batch_size=128, num_workers=4, pin_memory=True, drop_last=True),\n",
    "    'val': DataLoader(val, batch_size=128, num_workers=4, pin_memory=True, drop_last=True),\n",
    "    'test': DataLoader(test_ds, batch_size=128, num_workers=4, pin_memory=True)\n",
    "}"
   ]
  },
  {
   "cell_type": "code",
   "execution_count": 22,
   "id": "53dd41de-0d60-4342-9af7-5a1fd13c7e2f",
   "metadata": {},
   "outputs": [
    {
     "name": "stderr",
     "output_type": "stream",
     "text": [
      "  0%|          | 0/132 [00:00<?, ?it/s]"
     ]
    },
    {
     "name": "stdout",
     "output_type": "stream",
     "text": [
      "=============== Start Training ===============\n"
     ]
    },
    {
     "name": "stderr",
     "output_type": "stream",
     "text": [
      "100%|██████████| 132/132 [00:17<00:00,  7.60it/s]\n",
      "/opt/conda/lib/python3.8/site-packages/torch/optim/lr_scheduler.py:156: UserWarning: The epoch parameter in `scheduler.step()` was not necessary and is being deprecated where possible. Please use `scheduler.step()` to step the scheduler. During the deprecation, if epoch is different from None, the closed form is used instead of the new chainable form, where available. Please open an issue if you are unable to replicate your use case: https://github.com/pytorch/pytorch/issues/new/choose.\n",
      "  warnings.warn(EPOCH_DEPRECATION_WARNING, UserWarning)\n",
      "  0%|          | 0/14 [00:00<?, ?it/s]"
     ]
    },
    {
     "name": "stdout",
     "output_type": "stream",
     "text": [
      "Epoch : 1 / 10\n",
      "train - Loss : 0.5350, Acc : 83.1499%\n",
      "==============================\n"
     ]
    },
    {
     "name": "stderr",
     "output_type": "stream",
     "text": [
      "100%|██████████| 14/14 [00:02<00:00,  4.69it/s]\n",
      "  0%|          | 0/132 [00:00<?, ?it/s]"
     ]
    },
    {
     "name": "stdout",
     "output_type": "stream",
     "text": [
      "val - Loss : 0.5289, Acc : 84.5424%\n",
      "Training Time Spent : 0.0m 20.3894s\n",
      "--- Update Best Model ---\n",
      "==============================\n"
     ]
    },
    {
     "name": "stderr",
     "output_type": "stream",
     "text": [
      "100%|██████████| 132/132 [00:17<00:00,  7.51it/s]\n",
      "  0%|          | 0/14 [00:00<?, ?it/s]"
     ]
    },
    {
     "name": "stdout",
     "output_type": "stream",
     "text": [
      "Epoch : 2 / 10\n",
      "train - Loss : 0.4847, Acc : 84.4164%\n",
      "==============================\n"
     ]
    },
    {
     "name": "stderr",
     "output_type": "stream",
     "text": [
      "100%|██████████| 14/14 [00:02<00:00,  4.67it/s]\n",
      "  0%|          | 0/132 [00:00<?, ?it/s]"
     ]
    },
    {
     "name": "stdout",
     "output_type": "stream",
     "text": [
      "val - Loss : 0.5054, Acc : 84.6540%\n",
      "Training Time Spent : 0.0m 40.9976s\n",
      "--- Update Best Model ---\n",
      "==============================\n"
     ]
    },
    {
     "name": "stderr",
     "output_type": "stream",
     "text": [
      "100%|██████████| 132/132 [00:17<00:00,  7.47it/s]\n",
      "  0%|          | 0/14 [00:00<?, ?it/s]"
     ]
    },
    {
     "name": "stdout",
     "output_type": "stream",
     "text": [
      "Epoch : 3 / 10\n",
      "train - Loss : 0.4845, Acc : 84.1738%\n",
      "==============================\n"
     ]
    },
    {
     "name": "stderr",
     "output_type": "stream",
     "text": [
      "100%|██████████| 14/14 [00:03<00:00,  4.57it/s]\n",
      "  0%|          | 0/132 [00:00<?, ?it/s]"
     ]
    },
    {
     "name": "stdout",
     "output_type": "stream",
     "text": [
      "val - Loss : 0.4984, Acc : 84.4866%\n",
      "Training Time Spent : 1.0m 1.7738s\n",
      "==============================\n"
     ]
    },
    {
     "name": "stderr",
     "output_type": "stream",
     "text": [
      "100%|██████████| 132/132 [00:17<00:00,  7.52it/s]\n",
      "  0%|          | 0/14 [00:00<?, ?it/s]"
     ]
    },
    {
     "name": "stdout",
     "output_type": "stream",
     "text": [
      "Epoch : 4 / 10\n",
      "train - Loss : 0.4777, Acc : 84.4342%\n",
      "==============================\n"
     ]
    },
    {
     "name": "stderr",
     "output_type": "stream",
     "text": [
      "100%|██████████| 14/14 [00:03<00:00,  4.63it/s]\n",
      "  0%|          | 0/132 [00:00<?, ?it/s]"
     ]
    },
    {
     "name": "stdout",
     "output_type": "stream",
     "text": [
      "val - Loss : 0.4976, Acc : 84.4866%\n",
      "Training Time Spent : 1.0m 22.3559s\n",
      "==============================\n"
     ]
    },
    {
     "name": "stderr",
     "output_type": "stream",
     "text": [
      "100%|██████████| 132/132 [00:17<00:00,  7.46it/s]\n",
      "  0%|          | 0/14 [00:00<?, ?it/s]"
     ]
    },
    {
     "name": "stdout",
     "output_type": "stream",
     "text": [
      "Epoch : 5 / 10\n",
      "train - Loss : 0.4865, Acc : 84.1383%\n",
      "==============================\n"
     ]
    },
    {
     "name": "stderr",
     "output_type": "stream",
     "text": [
      "100%|██████████| 14/14 [00:02<00:00,  4.83it/s]\n",
      "  0%|          | 0/132 [00:00<?, ?it/s]"
     ]
    },
    {
     "name": "stdout",
     "output_type": "stream",
     "text": [
      "val - Loss : 0.4959, Acc : 84.3750%\n",
      "Training Time Spent : 1.0m 42.9648s\n",
      "==============================\n"
     ]
    },
    {
     "name": "stderr",
     "output_type": "stream",
     "text": [
      "100%|██████████| 132/132 [00:17<00:00,  7.51it/s]\n",
      "  0%|          | 0/14 [00:00<?, ?it/s]"
     ]
    },
    {
     "name": "stdout",
     "output_type": "stream",
     "text": [
      "Epoch : 6 / 10\n",
      "train - Loss : 0.4779, Acc : 84.3454%\n",
      "==============================\n"
     ]
    },
    {
     "name": "stderr",
     "output_type": "stream",
     "text": [
      "100%|██████████| 14/14 [00:03<00:00,  4.57it/s]\n",
      "  0%|          | 0/132 [00:00<?, ?it/s]"
     ]
    },
    {
     "name": "stdout",
     "output_type": "stream",
     "text": [
      "val - Loss : 0.4964, Acc : 84.3750%\n",
      "Training Time Spent : 2.0m 3.6086s\n",
      "==============================\n"
     ]
    },
    {
     "name": "stderr",
     "output_type": "stream",
     "text": [
      "100%|██████████| 132/132 [00:17<00:00,  7.49it/s]\n",
      "  0%|          | 0/14 [00:00<?, ?it/s]"
     ]
    },
    {
     "name": "stdout",
     "output_type": "stream",
     "text": [
      "Epoch : 7 / 10\n",
      "train - Loss : 0.4853, Acc : 84.1383%\n",
      "==============================\n"
     ]
    },
    {
     "name": "stderr",
     "output_type": "stream",
     "text": [
      "100%|██████████| 14/14 [00:02<00:00,  4.77it/s]\n",
      "  0%|          | 0/132 [00:00<?, ?it/s]"
     ]
    },
    {
     "name": "stdout",
     "output_type": "stream",
     "text": [
      "val - Loss : 0.4959, Acc : 84.4308%\n",
      "Training Time Spent : 2.0m 24.1660s\n",
      "==============================\n"
     ]
    },
    {
     "name": "stderr",
     "output_type": "stream",
     "text": [
      "100%|██████████| 132/132 [00:17<00:00,  7.47it/s]\n",
      "  0%|          | 0/14 [00:00<?, ?it/s]"
     ]
    },
    {
     "name": "stdout",
     "output_type": "stream",
     "text": [
      "Epoch : 8 / 10\n",
      "train - Loss : 0.4784, Acc : 84.2921%\n",
      "==============================\n"
     ]
    },
    {
     "name": "stderr",
     "output_type": "stream",
     "text": [
      "100%|██████████| 14/14 [00:02<00:00,  4.78it/s]\n",
      "  0%|          | 0/132 [00:00<?, ?it/s]"
     ]
    },
    {
     "name": "stdout",
     "output_type": "stream",
     "text": [
      "val - Loss : 0.4957, Acc : 84.4308%\n",
      "Training Time Spent : 2.0m 44.7649s\n",
      "==============================\n"
     ]
    },
    {
     "name": "stderr",
     "output_type": "stream",
     "text": [
      "100%|██████████| 132/132 [00:17<00:00,  7.55it/s]\n",
      "  0%|          | 0/14 [00:00<?, ?it/s]"
     ]
    },
    {
     "name": "stdout",
     "output_type": "stream",
     "text": [
      "Epoch : 9 / 10\n",
      "train - Loss : 0.4844, Acc : 84.4046%\n",
      "==============================\n"
     ]
    },
    {
     "name": "stderr",
     "output_type": "stream",
     "text": [
      "100%|██████████| 14/14 [00:03<00:00,  4.62it/s]\n",
      "  0%|          | 0/132 [00:00<?, ?it/s]"
     ]
    },
    {
     "name": "stdout",
     "output_type": "stream",
     "text": [
      "val - Loss : 0.4956, Acc : 84.3750%\n",
      "Training Time Spent : 3.0m 5.2895s\n",
      "==============================\n"
     ]
    },
    {
     "name": "stderr",
     "output_type": "stream",
     "text": [
      "100%|██████████| 132/132 [00:17<00:00,  7.41it/s]\n",
      "  0%|          | 0/14 [00:00<?, ?it/s]"
     ]
    },
    {
     "name": "stdout",
     "output_type": "stream",
     "text": [
      "Epoch : 10 / 10\n",
      "train - Loss : 0.4805, Acc : 84.2448%\n",
      "==============================\n"
     ]
    },
    {
     "name": "stderr",
     "output_type": "stream",
     "text": [
      "100%|██████████| 14/14 [00:03<00:00,  4.61it/s]"
     ]
    },
    {
     "name": "stdout",
     "output_type": "stream",
     "text": [
      "val - Loss : 0.4979, Acc : 84.3750%\n",
      "Training Time Spent : 3.0m 26.1544s\n",
      "==============================\n",
      "Whole Time Spent : 3.0m 26.1548s\n"
     ]
    },
    {
     "name": "stderr",
     "output_type": "stream",
     "text": [
      "\n"
     ]
    }
   ],
   "source": [
    "print('=============== Start Training ===============')\n",
    "    \n",
    "device = 'cuda'\n",
    "num_epochs = 10\n",
    "\n",
    "# ============================\n",
    "# for viz\n",
    "# ============================\n",
    "losses = {'train':[], 'val':[]}\n",
    "accuracies = {'train':[], 'val':[]}\n",
    "lr = []\n",
    "\n",
    "model.to(device)\n",
    "criterion = nn.CrossEntropyLoss().to(device)\n",
    "\n",
    "# ============================\n",
    "# optimizers\n",
    "# ============================\n",
    "# optimizer = torch.optim.Adam(model.parameters(), lr=0.1)\n",
    "# optimizer = torch.optim.Adam(model.fc.parameters(), lr=0.001, eps=1e-08)\n",
    "optimizer = torch.optim.SGD(model.parameters(), lr=0.001, momentum=0.9, weight_decay=5e-4)\n",
    "\n",
    "# ============================\n",
    "# schedulers\n",
    "# ============================\n",
    "# scheduler = torch.optim.lr_scheduler.ReduceLROnPlateau(optimizer, mode='max', factor=0.1, patience=3, verbose=True)\n",
    "# scheduler = torch.optim.lr_scheduler.OneCycleLR(optimizer, 0.1, epochs=epochs, steps_per_epoch=len(loaders['train']), cycle_momentum=True)\n",
    "scheduler = torch.optim.lr_scheduler.StepLR(optimizer, 3, gamma=0.5)\n",
    "\n",
    "# time tracking\n",
    "since = time.time()\n",
    "\n",
    "# init\n",
    "best_model = copy.deepcopy(model.state_dict())\n",
    "best_acc = 0.0\n",
    "\n",
    "for epoch in range(num_epochs):\n",
    "    for phase in ['train', 'val']:\n",
    "        if phase == 'train':\n",
    "            model.train()\n",
    "        else:\n",
    "            model.eval()\n",
    "\n",
    "        running_loss = 0.0\n",
    "        running_corrects = 0.0\n",
    "        total = 0.0\n",
    "\n",
    "        for inputs, labels in tqdm(loaders[phase]):\n",
    "            inputs, labels = inputs.to(device), labels.to(device)\n",
    "            optimizer.zero_grad()\n",
    "\n",
    "            with torch.set_grad_enabled(phase == 'train'): # back prop only training\n",
    "                outp = model(inputs)\n",
    "                loss = criterion(outp, labels)\n",
    "                _, pred = torch.max(outp, 1)\n",
    "\n",
    "                if phase == 'train':\n",
    "                    loss.backward()\n",
    "                    optimizer.step()\n",
    "                    # scheduler.step()\n",
    "                    # lr.append(scheduler.get_lr())\n",
    "\n",
    "            running_loss += loss.item() * inputs.size(0)            # per batch_size\n",
    "            running_corrects += torch.sum(pred == labels.data)      # per batch_size\n",
    "            total += labels.size(0)\n",
    "\n",
    "        if phase == 'train':\n",
    "            acc = 100. * running_corrects.double() / total\n",
    "            scheduler.step(acc)\n",
    "\n",
    "        epoch_loss = running_loss / total                        # per epoch\n",
    "        epoch_acc = 100. * running_corrects.double() / total     # per epoch\n",
    "\n",
    "        losses[phase].append(epoch_loss)\n",
    "        accuracies[phase].append(epoch_acc)\n",
    "\n",
    "        if phase == 'train':\n",
    "            print('Epoch : {} / {}'.format(epoch + 1, num_epochs))\n",
    "        print('{} - Loss : {:.4f}, Acc : {:.4f}%'.format(phase, epoch_loss, epoch_acc))\n",
    "        lr.append(scheduler._last_lr)\n",
    "\n",
    "        if phase == 'val':\n",
    "            print('Training Time Spent : {}m {:.4f}s'.format((time.time() - since) // 60, (time.time() - since) % 60))\n",
    "\n",
    "        # update best result\n",
    "        if phase == 'val' and epoch_acc > best_acc:\n",
    "            print('--- Update Best Model ---')\n",
    "            best_acc = epoch_acc\n",
    "            best_model = copy.deepcopy(model.state_dict())\n",
    "\n",
    "        # dividing line\n",
    "        print('==' * 15)\n",
    "\n",
    "    # early stopping\n",
    "#     if not is_val_loss_decreasing(epoch, 3, losses['val']):\n",
    "#         print('--- Early Stopping ---')\n",
    "#         break\n",
    "\n",
    "time_elapsed = time.time() - since\n",
    "print('Whole Time Spent : {}m {:.4f}s'.format(time_elapsed // 60, time_elapsed % 60))\n",
    "\n",
    "# load best model\n",
    "model.load_state_dict(best_model)\n",
    "\n",
    "# save model\n",
    "root = '../code/model'\n",
    "torch.save(model, os.path.join(root, 'efficientnetb2.pth'))"
   ]
  },
  {
   "cell_type": "code",
   "execution_count": 24,
   "id": "21af62fa-29b8-4748-a890-b96d09986c76",
   "metadata": {},
   "outputs": [
    {
     "name": "stderr",
     "output_type": "stream",
     "text": [
      "100%|██████████| 99/99 [00:22<00:00,  4.32it/s]"
     ]
    },
    {
     "name": "stdout",
     "output_type": "stream",
     "text": [
      "================= Done =================\n"
     ]
    },
    {
     "name": "stderr",
     "output_type": "stream",
     "text": [
      "\n"
     ]
    }
   ],
   "source": [
    "all_predictions = []\n",
    "model.eval()\n",
    "with torch.no_grad():\n",
    "    for images, labels in tqdm(loaders['test']):\n",
    "        images = images.to(device)\n",
    "        labels = labels.to(device)\n",
    "\n",
    "        outp = model(images)\n",
    "        tmp_outp = outp.argmax(dim=-1) # index 1 => attention info\n",
    "        all_predictions.extend(tmp_outp.cpu().numpy())\n",
    "\n",
    "test_ds.info_df['ans'] = all_predictions\n",
    "test_ds.info_df.to_csv('../input/data/eval/submission_efficientb2.csv', index=False)\n",
    "print('================= Done =================')"
   ]
  }
 ],
 "metadata": {
  "kernelspec": {
   "display_name": "Python 3 (ipykernel)",
   "language": "python",
   "name": "python3"
  },
  "language_info": {
   "codemirror_mode": {
    "name": "ipython",
    "version": 3
   },
   "file_extension": ".py",
   "mimetype": "text/x-python",
   "name": "python",
   "nbconvert_exporter": "python",
   "pygments_lexer": "ipython3",
   "version": "3.8.5"
  }
 },
 "nbformat": 4,
 "nbformat_minor": 5
}
