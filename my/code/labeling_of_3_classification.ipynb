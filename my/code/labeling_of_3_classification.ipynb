{
 "cells": [
  {
   "cell_type": "markdown",
   "id": "330db7e3-1960-42f1-b57b-c2ccd47b299d",
   "metadata": {
    "tags": []
   },
   "source": [
    "# Labeling from Age / Gender / Mask Classification Results\n",
    "- Combine whole results below\n",
    "    - Age Prediction\n",
    "    - Gender Prediction\n",
    "    - Mask Prediction"
   ]
  },
  {
   "cell_type": "code",
   "execution_count": 12,
   "id": "9fbbcf1c-1264-4464-b5f9-2e084c9da065",
   "metadata": {},
   "outputs": [],
   "source": [
    "import torch\n",
    "import pandas as pd"
   ]
  },
  {
   "cell_type": "code",
   "execution_count": 13,
   "id": "5d0ee026-ffba-47df-bb62-a0dfa3d32f19",
   "metadata": {},
   "outputs": [],
   "source": [
    "gender_df = pd.read_csv('../input/data/eval/submission_resnet101_gender.csv', delimiter=',', encoding='utf-8-sig')\n",
    "mask_df = pd.read_csv('../input/data/eval/submission_resnet101_mask.csv', delimiter=',', encoding='utf-8-sig')\n",
    "age_df = pd.read_csv('../input/data/eval/submission_resnet101_age.csv', delimiter=',', encoding='utf-8-sig')"
   ]
  },
  {
   "cell_type": "code",
   "execution_count": 14,
   "id": "c01f85e4-7d28-4c75-9ebf-69337177bf12",
   "metadata": {},
   "outputs": [],
   "source": [
    "gender_list = gender_df['ans'].tolist()\n",
    "mask_list = mask_df['ans'].tolist()\n",
    "age_list = age_df['ans'].tolist()"
   ]
  },
  {
   "cell_type": "code",
   "execution_count": 15,
   "id": "2f4bd5a2-da76-4b4b-94b3-6f2579df4101",
   "metadata": {},
   "outputs": [],
   "source": [
    "ans = []\n",
    "for i in range(len(gender_list)):\n",
    "    ans.append(get_ans(mask_list[i], gender_list[i], age_list[i]))"
   ]
  },
  {
   "cell_type": "code",
   "execution_count": 16,
   "id": "5cfbb565-a0f0-48d2-9d65-9ba4067e19da",
   "metadata": {},
   "outputs": [],
   "source": [
    "def get_ans(mask, gender, age):\n",
    "    if mask == 0:\n",
    "        if gender == 0 and age == 0:\n",
    "            return 0\n",
    "        if gender == 0 and age == 1:\n",
    "            return 1\n",
    "        if gender == 0 and age == 2:\n",
    "            return 2\n",
    "        if gender == 1 and age == 0:\n",
    "            return 3\n",
    "        if gender == 1 and age == 1:\n",
    "            return 4\n",
    "        if gender == 1 and age == 2:\n",
    "            return 5\n",
    "    elif mask == 1:\n",
    "        if gender == 0 and age == 0:\n",
    "            return 6\n",
    "        if gender == 0 and age == 1:\n",
    "            return 7\n",
    "        if gender == 0 and age == 2:\n",
    "            return 8\n",
    "        if gender == 1 and age == 0:\n",
    "            return 9\n",
    "        if gender == 1 and age == 1:\n",
    "            return 10\n",
    "        if gender == 1 and age == 2:\n",
    "            return 11\n",
    "    else:\n",
    "        if gender == 0 and age == 0:\n",
    "            return 12\n",
    "        if gender == 0 and age == 1:\n",
    "            return 13\n",
    "        if gender == 0 and age == 2:\n",
    "            return 14\n",
    "        if gender == 1 and age == 0:\n",
    "            return 15\n",
    "        if gender == 1 and age == 1:\n",
    "            return 16\n",
    "        if gender == 1 and age == 2:\n",
    "            return 17"
   ]
  },
  {
   "cell_type": "code",
   "execution_count": 17,
   "id": "a9683eec-5739-429c-96b0-b979bd58c49f",
   "metadata": {},
   "outputs": [],
   "source": [
    "gender_df['real_ans'] = ans"
   ]
  },
  {
   "cell_type": "code",
   "execution_count": 18,
   "id": "a8989022-63d8-477a-befe-034d3f559e01",
   "metadata": {},
   "outputs": [],
   "source": [
    "gender_df.to_csv('../input/data/eval/submission_final.csv', index=False)"
   ]
  },
  {
   "cell_type": "code",
   "execution_count": null,
   "id": "706f0636-8d2c-49b2-9b21-9d8fd4133d67",
   "metadata": {},
   "outputs": [],
   "source": []
  }
 ],
 "metadata": {
  "kernelspec": {
   "display_name": "Python 3 (ipykernel)",
   "language": "python",
   "name": "python3"
  },
  "language_info": {
   "codemirror_mode": {
    "name": "ipython",
    "version": 3
   },
   "file_extension": ".py",
   "mimetype": "text/x-python",
   "name": "python",
   "nbconvert_exporter": "python",
   "pygments_lexer": "ipython3",
   "version": "3.8.5"
  }
 },
 "nbformat": 4,
 "nbformat_minor": 5
}
