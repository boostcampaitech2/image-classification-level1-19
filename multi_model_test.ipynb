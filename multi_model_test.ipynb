{
 "cells": [
  {
   "cell_type": "markdown",
   "id": "f0d2a334-0cd6-4322-8996-2ebc472ad149",
   "metadata": {
    "tags": []
   },
   "source": [
    "# import module\n"
   ]
  },
  {
   "cell_type": "markdown",
   "id": "458984ee-a6c4-43ac-acb4-1b68de6c2877",
   "metadata": {},
   "source": [
    "# Confusion Matrix, Oversampling\n",
    "\n",
    "Confusion matrix\n",
    "- Hyperparameter:epoch=5, batch_size=256, lr=0.0001\n",
    "- optimizer: Adam\n",
    "- Seed:42\n"
   ]
  },
  {
   "cell_type": "code",
   "execution_count": 1,
   "id": "1e8e004d-5d1f-41d4-b5f9-9fe9f6bea7fa",
   "metadata": {},
   "outputs": [],
   "source": [
    "import numpy as np\n",
    "import matplotlib.pyplot as plt\n",
    "import os\n",
    "import torch\n",
    "import torchvision\n",
    "from torchvision import transforms, datasets\n",
    "from torch.utils.data import Dataset, DataLoader, random_split, SubsetRandomSampler, WeightedRandomSampler, Subset\n",
    "from PIL import Image\n",
    "from dataset import MaskData, transform, TestDataset\n",
    "import model\n",
    "import random\n",
    "import GPUtil"
   ]
  },
  {
   "cell_type": "code",
   "execution_count": 2,
   "id": "003c4b0e-c7c6-4023-b539-8ddcc5480c36",
   "metadata": {},
   "outputs": [],
   "source": [
    "SEED = 42\n",
    "\n",
    "def seed_everything(seed):\n",
    "    random.seed(seed)\n",
    "    #os.environ['PYTHONHASHSEED'] = str(seed)\n",
    "    np.random.seed(seed)\n",
    "    torch.manual_seed(seed)\n",
    "    torch.cuda.manual_seed(seed)\n",
    "    torch.backends.cudnn.deterministic = True\n",
    "    torch.backends.cudnn.benchmark = True\n",
    "\n",
    "seed_everything(SEED)"
   ]
  },
  {
   "cell_type": "code",
   "execution_count": 3,
   "id": "bd187893-b1fb-4ba4-9e07-91600fe29645",
   "metadata": {},
   "outputs": [],
   "source": [
    "DEA_PATH = 'DEA'\n",
    "if not os.path.exists(DEA_PATH):\n",
    "    os.mkdir(DEA_PATH)"
   ]
  },
  {
   "cell_type": "markdown",
   "id": "eea17dd7-2c11-4b56-8f7f-e907aa6e6d4c",
   "metadata": {},
   "source": [
    "# Hypermarameter"
   ]
  },
  {
   "cell_type": "code",
   "execution_count": 4,
   "id": "4e63ea72-6685-4f54-ba5b-903a871eb7a5",
   "metadata": {},
   "outputs": [
    {
     "name": "stdout",
     "output_type": "stream",
     "text": [
      "cuda\n"
     ]
    }
   ],
   "source": [
    "device = torch.device(\"cuda\" if torch.cuda.is_available() else \"cpu\")\n",
    "print(device)\n",
    "\n",
    "EPOCHS = 3\n",
    "BATCH_SIZE = 256\n",
    "LEARNING_RATE = 0.0001"
   ]
  },
  {
   "cell_type": "markdown",
   "id": "99a82a85-0b1b-4237-9542-9e2963592084",
   "metadata": {},
   "source": [
    "# Data Load and Model define"
   ]
  },
  {
   "cell_type": "code",
   "execution_count": 5,
   "id": "9bdf392a-6481-4d9e-a3f9-b037c5f296a4",
   "metadata": {},
   "outputs": [
    {
     "name": "stdout",
     "output_type": "stream",
     "text": [
      "       id  gender   race  age                    path\n",
      "0  003364  female  Asian   19  003364_female_Asian_19\n",
      "1  003185  female  Asian   19  003185_female_Asian_19\n",
      "2  003044  female  Asian   20  003044_female_Asian_20\n",
      "3  001549  female  Asian   60  001549_female_Asian_60\n",
      "4  003196  female  Asian   20  003196_female_Asian_20\n",
      "         id  gender   race  age                    path\n",
      "0    006639    male  Asian   19    006639_male_Asian_19\n",
      "1    001368  female  Asian   22  001368_female_Asian_22\n",
      "2    005425  female  Asian   40  005425_female_Asian_40\n",
      "3  001131-1    male  Asian   22  001131-1_male_Asian_22\n",
      "4    006210    male  Asian   19    006210_male_Asian_19\n",
      "       id  gender   race  age                    path\n",
      "0  003853  female  Asian   57  003853_female_Asian_57\n",
      "1  000302  female  Asian   56  000302_female_Asian_56\n",
      "2  003821    male  Asian   38    003821_male_Asian_38\n",
      "3  001436    male  Asian   57    001436_male_Asian_57\n",
      "4  004442    male  Asian   40    004442_male_Asian_40\n"
     ]
    }
   ],
   "source": [
    "trian_transform = transform(train=True)\n",
    "\n",
    "mask_data = MaskData(root='../../input/data',transform=trian_transform, train=True, class_by='mask')\n",
    "gender_data = MaskData(root='../../input/data',transform=trian_transform, train=True, class_by='gender')\n",
    "age_data = MaskData(root='../../input/data',transform=trian_transform, train=True, class_by='age')"
   ]
  },
  {
   "cell_type": "markdown",
   "id": "f4c00ee9-fb9e-4839-99a7-460929c38c2c",
   "metadata": {},
   "source": [
    "## Split data set before make shuffle!"
   ]
  },
  {
   "cell_type": "code",
   "execution_count": 6,
   "id": "605713d5-7750-4143-b128-7edbcacad86e",
   "metadata": {},
   "outputs": [],
   "source": [
    "n_test = int(len(mask_data)*0.2) # 0.2 means => train 80%, test 20%\n",
    "n_train= len(mask_data) - n_test\n",
    "n_train = [i for i in range(n_train)]\n",
    "n_test= [i for i in range(len(n_train), len(mask_data))]\n",
    "\n",
    "mask_train_set = Subset(mask_data, n_train)\n",
    "mask_val_set = Subset(mask_data, n_test)\n",
    "gender_train_set = Subset(gender_data, n_train)\n",
    "gender_val_set = Subset(gender_data, n_test)\n",
    "age_train_set = Subset(age_data, n_train)\n",
    "age_val_set = Subset(age_data, n_test)\n"
   ]
  },
  {
   "cell_type": "markdown",
   "id": "7e5eaf06-6bc1-4c76-b5f6-46f2ccc2eb6f",
   "metadata": {},
   "source": [
    "## and then make each set a loader"
   ]
  },
  {
   "cell_type": "code",
   "execution_count": 7,
   "id": "3331334b-e2e0-43d0-9d06-f2aeaba77125",
   "metadata": {},
   "outputs": [],
   "source": [
    "mask_train_loader = DataLoader(mask_train_set, batch_size=BATCH_SIZE, shuffle=True)\n",
    "mask_val_loader = DataLoader(mask_val_set, batch_size=BATCH_SIZE, shuffle=True)\n",
    "\n",
    "gender_train_loader = DataLoader(gender_train_set, batch_size=BATCH_SIZE, shuffle=True)\n",
    "gender_val_loader = DataLoader(gender_val_set, batch_size=BATCH_SIZE, shuffle=True)\n",
    "\n",
    "age_train_loader = DataLoader(age_train_set, batch_size=BATCH_SIZE, shuffle=True)\n",
    "age_val_loader = DataLoader(age_val_set, batch_size=BATCH_SIZE, shuffle=True)"
   ]
  },
  {
   "cell_type": "code",
   "execution_count": 8,
   "id": "cc0e0366-2701-4fd6-a293-cf1b39dafaa0",
   "metadata": {},
   "outputs": [],
   "source": [
    "mask_model = model.resnet18(3).to(device)\n",
    "gender_model = model.resnet18(2).to(device)\n",
    "age_model = model.resnet18(3).to(device)"
   ]
  },
  {
   "cell_type": "markdown",
   "id": "60a9f0a4-06b3-4d5e-91bc-3c47f3122afc",
   "metadata": {},
   "source": [
    "# Optimizer, train, eval func define"
   ]
  },
  {
   "cell_type": "code",
   "execution_count": 9,
   "id": "4da26491-564d-4b09-8930-b9ef2db42701",
   "metadata": {},
   "outputs": [],
   "source": [
    "loss_fn = torch.nn.CrossEntropyLoss()\n",
    "mask_optimizer = torch.optim.Adam(mask_model.parameters(), lr = LEARNING_RATE)\n",
    "gender_optimizer = torch.optim.Adam(gender_model.parameters(), lr = LEARNING_RATE)\n",
    "age_optimizer = torch.optim.Adam(age_model.parameters(), lr = LEARNING_RATE)"
   ]
  },
  {
   "cell_type": "code",
   "execution_count": 10,
   "id": "a0dcec75-70b6-4b77-b53b-2c86a52dab3a",
   "metadata": {},
   "outputs": [],
   "source": [
    "dataloaders = {\n",
    "    \"mask_train\" : mask_train_loader,\n",
    "    \"mask_val\" : mask_val_loader,\n",
    "    \"gender_train\": gender_train_loader,\n",
    "    \"gender_val\": gender_val_loader,\n",
    "    \"age_train\": age_train_loader,\n",
    "    \"age_val\": age_val_loader\n",
    "}"
   ]
  },
  {
   "cell_type": "code",
   "execution_count": 11,
   "id": "796c6cc3-f30b-4330-ab26-92fb4230abda",
   "metadata": {},
   "outputs": [],
   "source": [
    "def train(model, train_loader, optimizer, loss_fn, log_interval=10):\n",
    "    model.train()\n",
    "    for batch_idx, (image, label) in enumerate(train_loader):\n",
    "        image = image.to(device)\n",
    "        label = label.to(device)\n",
    "        optimizer.zero_grad()\n",
    "        output = model(image)\n",
    "        loss = loss_fn(output, label)\n",
    "        loss.backward()\n",
    "        optimizer.step()\n",
    "        if batch_idx % log_interval == 0:\n",
    "            print(f\"[{batch_idx * len(image)}/{len(train_loader.dataset)} ({100.*batch_idx/len(train_loader):.0f}%)] train loss:{loss.item():.3f}\")"
   ]
  },
  {
   "cell_type": "markdown",
   "id": "5c199c86-8234-47d1-b7bd-164081ab6f43",
   "metadata": {},
   "source": [
    "## val funcition will get loss, acc from test set and make tensor(like list) for confusion matrix"
   ]
  },
  {
   "cell_type": "code",
   "execution_count": 12,
   "id": "a40149fb-cb18-4911-bc08-e5f9e97ff0cd",
   "metadata": {},
   "outputs": [],
   "source": [
    "def val(model, test_loader):\n",
    "    model.eval()\n",
    "    test_loss = 0\n",
    "    correct = 0\n",
    "    preds = torch.tensor([]) # for confusion matrix\n",
    "    preds = preds.to(device)\n",
    "    targets = torch.tensor([]) # for confusion matrix\n",
    "    targets = targets.to(device)\n",
    "    with torch.no_grad():\n",
    "        for image, label in test_loader:\n",
    "            image = image.to(device)\n",
    "            label = label.to(device)\n",
    "            output = model(image)\n",
    "            test_loss += loss_fn(output, label).item()\n",
    "            pred = output.max(1, keepdim = True)[1]\n",
    "            correct += pred.eq(label.view_as(pred)).sum().item()\n",
    "            \n",
    "            preds = torch.cat((preds, pred), dim=0)\n",
    "            targets = torch.cat((targets, label), dim=0)\n",
    "            \n",
    "    test_loss /= len(test_loader.dataset)\n",
    "    test_acc = 100. * correct / len(test_loader.dataset)\n",
    "    return test_loss, test_acc, preds, targets"
   ]
  },
  {
   "cell_type": "markdown",
   "id": "5c5beefa-a825-4706-9aa4-d766a79da85c",
   "metadata": {},
   "source": [
    "# Learning"
   ]
  },
  {
   "cell_type": "code",
   "execution_count": 13,
   "id": "f4aec780-7ab6-4721-bb37-3bd591c1c6b3",
   "metadata": {
    "tags": []
   },
   "outputs": [
    {
     "name": "stdout",
     "output_type": "stream",
     "text": [
      "[0/15120 (0%)] train loss:1.115\n",
      "[2560/15120 (17%)] train loss:0.131\n",
      "[5120/15120 (33%)] train loss:0.059\n",
      "[7680/15120 (50%)] train loss:0.055\n",
      "[10240/15120 (67%)] train loss:0.012\n",
      "[12800/15120 (83%)] train loss:0.008\n",
      "\n",
      "[epoch:1] \tTest loss:0.0004, \tTest acc:96.46%\n",
      "[0/15120 (0%)] train loss:0.008\n",
      "[2560/15120 (17%)] train loss:0.001\n",
      "[5120/15120 (33%)] train loss:0.001\n",
      "[7680/15120 (50%)] train loss:0.028\n",
      "[10240/15120 (67%)] train loss:0.017\n",
      "[12800/15120 (83%)] train loss:0.005\n",
      "\n",
      "[epoch:2] \tTest loss:0.0001, \tTest acc:99.31%\n",
      "[0/15120 (0%)] train loss:0.001\n",
      "[2560/15120 (17%)] train loss:0.002\n",
      "[5120/15120 (33%)] train loss:0.001\n",
      "[7680/15120 (50%)] train loss:0.001\n",
      "[10240/15120 (67%)] train loss:0.001\n",
      "[12800/15120 (83%)] train loss:0.000\n",
      "\n",
      "[epoch:3] \tTest loss:0.0001, \tTest acc:99.37%\n"
     ]
    }
   ],
   "source": [
    "all_mask_preds = None # for confusion matrix\n",
    "all_mask_targets = None\n",
    "for epoch in range(1, EPOCHS +1):\n",
    "\n",
    "    train(mask_model, dataloaders['mask_train'], mask_optimizer, loss_fn)\n",
    "    test_loss, test_acc, preds, targets = val(mask_model, dataloaders['mask_val'])\n",
    "    print(f'\\n[epoch:{epoch}] \\tTest loss:{test_loss:.4f}, \\tTest acc:{test_acc:.2f}%')\n",
    "    if epoch == EPOCHS: # last epoch make list for confusion matrix\n",
    "        all_mask_preds= preds\n",
    "        all_mask_targets = targets\n",
    "\n"
   ]
  },
  {
   "cell_type": "code",
   "execution_count": 14,
   "id": "ea72b2ee-d4cc-408e-b3a8-a44cae321b41",
   "metadata": {},
   "outputs": [],
   "source": [
    "torch.save(mask_model, os.path.join(DEA_PATH,'mask_model.pt'))"
   ]
  },
  {
   "cell_type": "code",
   "execution_count": 15,
   "id": "f029c745-2d6a-4928-9ce6-6161a0542365",
   "metadata": {
    "tags": []
   },
   "outputs": [
    {
     "name": "stdout",
     "output_type": "stream",
     "text": [
      "[0/15120 (0%)] train loss:0.914\n",
      "[2560/15120 (17%)] train loss:0.196\n",
      "[5120/15120 (33%)] train loss:0.116\n",
      "[7680/15120 (50%)] train loss:0.108\n",
      "[10240/15120 (67%)] train loss:0.064\n",
      "[12800/15120 (83%)] train loss:0.064\n",
      "\n",
      "[epoch:1] \tTest loss:0.0013, \tTest acc:86.06%\n",
      "[0/15120 (0%)] train loss:0.018\n",
      "[2560/15120 (17%)] train loss:0.030\n",
      "[5120/15120 (33%)] train loss:0.010\n",
      "[7680/15120 (50%)] train loss:0.015\n",
      "[10240/15120 (67%)] train loss:0.025\n",
      "[12800/15120 (83%)] train loss:0.022\n",
      "\n",
      "[epoch:2] \tTest loss:0.0005, \tTest acc:95.63%\n",
      "[0/15120 (0%)] train loss:0.008\n",
      "[2560/15120 (17%)] train loss:0.006\n",
      "[5120/15120 (33%)] train loss:0.012\n",
      "[7680/15120 (50%)] train loss:0.015\n",
      "[10240/15120 (67%)] train loss:0.011\n",
      "[12800/15120 (83%)] train loss:0.003\n",
      "\n",
      "[epoch:3] \tTest loss:0.0006, \tTest acc:95.98%\n"
     ]
    }
   ],
   "source": [
    "all_gender_preds = None\n",
    "all_gender_preds = None\n",
    "\n",
    "for epoch in range(1, EPOCHS +1):\n",
    "    train(gender_model, dataloaders['gender_train'], gender_optimizer, loss_fn)\n",
    "    test_loss, test_acc, preds, targets = val(gender_model, dataloaders['gender_val'])\n",
    "    print(f'\\n[epoch:{epoch}] \\tTest loss:{test_loss:.4f}, \\tTest acc:{test_acc:.2f}%')\n",
    "    if epoch == EPOCHS:\n",
    "        all_gender_preds = preds\n",
    "        all_gender_targets = targets\n"
   ]
  },
  {
   "cell_type": "code",
   "execution_count": 16,
   "id": "78285407-61b5-4c23-9ecb-87f113c4fee6",
   "metadata": {},
   "outputs": [],
   "source": [
    "torch.save(gender_model, os.path.join(DEA_PATH,'gender_model.pt'))"
   ]
  },
  {
   "cell_type": "code",
   "execution_count": 17,
   "id": "1145ae43-73a8-405b-a156-df39d33f6481",
   "metadata": {
    "tags": []
   },
   "outputs": [
    {
     "name": "stdout",
     "output_type": "stream",
     "text": [
      "[0/15120 (0%)] train loss:2.283\n",
      "[2560/15120 (17%)] train loss:0.485\n",
      "[5120/15120 (33%)] train loss:0.251\n",
      "[7680/15120 (50%)] train loss:0.314\n",
      "[10240/15120 (67%)] train loss:0.232\n",
      "[12800/15120 (83%)] train loss:0.139\n",
      "\n",
      "[epoch:1] \tTest loss:0.0023, \tTest acc:77.86%\n",
      "[0/15120 (0%)] train loss:0.139\n",
      "[2560/15120 (17%)] train loss:0.103\n",
      "[5120/15120 (33%)] train loss:0.081\n",
      "[7680/15120 (50%)] train loss:0.065\n",
      "[10240/15120 (67%)] train loss:0.051\n",
      "[12800/15120 (83%)] train loss:0.035\n",
      "\n",
      "[epoch:2] \tTest loss:0.0015, \tTest acc:88.41%\n",
      "[0/15120 (0%)] train loss:0.012\n",
      "[2560/15120 (17%)] train loss:0.021\n",
      "[5120/15120 (33%)] train loss:0.015\n",
      "[7680/15120 (50%)] train loss:0.026\n",
      "[10240/15120 (67%)] train loss:0.009\n",
      "[12800/15120 (83%)] train loss:0.011\n",
      "\n",
      "[epoch:3] \tTest loss:0.0015, \tTest acc:88.76%\n"
     ]
    }
   ],
   "source": [
    "all_age_preds = None\n",
    "all_age_preds = None\n",
    "\n",
    "for epoch in range(1, EPOCHS +1):\n",
    "    train(age_model, dataloaders['age_train'], age_optimizer, loss_fn)\n",
    "    test_loss, test_acc,preds, targets = val(age_model, dataloaders['age_val'])\n",
    "    print(f'\\n[epoch:{epoch}] \\tTest loss:{test_loss:.4f}, \\tTest acc:{test_acc:.2f}%')\n",
    "    if epoch == EPOCHS:\n",
    "        all_age_preds = preds\n",
    "        all_age_targets = targets"
   ]
  },
  {
   "cell_type": "code",
   "execution_count": 18,
   "id": "71ebbaaf-1816-4462-8236-99b6f7924ab7",
   "metadata": {},
   "outputs": [],
   "source": [
    "torch.save(age_model, os.path.join(DEA_PATH,'age_model.pt'))"
   ]
  },
  {
   "cell_type": "markdown",
   "id": "85fb68bf-ada0-4a68-881f-e6ce9642c732",
   "metadata": {},
   "source": [
    "# Confusion Matrix "
   ]
  },
  {
   "cell_type": "code",
   "execution_count": 19,
   "id": "e0c2815d-c871-4433-9c3c-b9cab67be321",
   "metadata": {},
   "outputs": [
    {
     "name": "stdout",
     "output_type": "stream",
     "text": [
      "tensor([0, 1, 1,  ..., 0, 0, 0], device='cuda:0')\n",
      "tensor([0, 1, 1,  ..., 0, 0, 0], device='cuda:0')\n"
     ]
    }
   ],
   "source": [
    "print(all_mask_preds.to(torch.int64).reshape(-1))\n",
    "print(all_mask_targets.to(torch.int64))"
   ]
  },
  {
   "cell_type": "code",
   "execution_count": 20,
   "id": "ab72492f-48fb-43c8-8821-f4db76e138d9",
   "metadata": {},
   "outputs": [],
   "source": [
    "def confusion_matrix(all_preds, all_targets, classes):\n",
    "    stacked = torch.stack((all_targets, all_preds), dim=1)\n",
    "    cmt = torch.zeros(classes, classes, dtype=torch.int64)\n",
    "    for p in stacked:\n",
    "        tl, pl = p.tolist()\n",
    "        cmt[tl, pl] = cmt[tl, pl] + 1\n",
    "    \n",
    "    return cmt"
   ]
  },
  {
   "cell_type": "code",
   "execution_count": 21,
   "id": "9bf1dec5-cfa2-466f-aab0-99877d162cea",
   "metadata": {},
   "outputs": [],
   "source": [
    "mask_cmt = confusion_matrix(all_mask_preds.to(torch.int64).reshape(-1), all_mask_targets.to(torch.int64), 3)\n",
    "#all_mask_preds = torch([0,1,2, ... 5,6,7])\n",
    "#all_mask_target = torch([0,1,2, ... 5,6,7])"
   ]
  },
  {
   "cell_type": "code",
   "execution_count": 22,
   "id": "00a24895-d31e-4859-8aec-0fb1632ca36c",
   "metadata": {},
   "outputs": [
    {
     "name": "stdout",
     "output_type": "stream",
     "text": [
      "tensor([[2697,    3,    0],\n",
      "        [  15,  521,    4],\n",
      "        [   0,    2,  538]])\n"
     ]
    }
   ],
   "source": [
    "print(mask_cmt)"
   ]
  },
  {
   "cell_type": "code",
   "execution_count": 23,
   "id": "82d1feb9-5e38-4761-97a9-e582ae6b84ad",
   "metadata": {},
   "outputs": [],
   "source": [
    "gender_cmt = confusion_matrix(all_gender_preds.to(torch.int64).reshape(-1), all_gender_targets.to(torch.int64), 2)"
   ]
  },
  {
   "cell_type": "code",
   "execution_count": 24,
   "id": "e239c86e-963c-48a2-ae7b-f31f4532e611",
   "metadata": {},
   "outputs": [],
   "source": [
    "age_cmt = confusion_matrix(all_age_preds.to(torch.int64).reshape(-1), all_age_targets.to(torch.int64), 3)"
   ]
  },
  {
   "cell_type": "code",
   "execution_count": 25,
   "id": "b505e6b8-eafd-44f0-afcc-8c2286c4a951",
   "metadata": {},
   "outputs": [],
   "source": [
    "import itertools\n",
    "import numpy as np\n",
    "import matplotlib.pyplot as plt\n",
    "\n",
    "def plot_confusion_matrix(cm, classes, normalize=False, title='Confusion matrix', cmap=plt.cm.Blues):\n",
    "    if normalize:\n",
    "        cm = cm.astype('float') / cm.sum(axis=1)[:, np.newaxis]\n",
    "        print(\"Normalized confusion matrix\")\n",
    "    else:\n",
    "        print('Confusion matrix, without normalization')\n",
    "\n",
    "    #print(cm)\n",
    "    plt.figure(figsize=(18,7))\n",
    "    plt.imshow(cm, interpolation='nearest', cmap=cmap)\n",
    "    plt.title(title)\n",
    "    plt.colorbar()\n",
    "    tick_marks = np.arange(len(classes))\n",
    "    plt.xticks(tick_marks, classes, rotation=45)\n",
    "    plt.yticks(tick_marks, classes)\n",
    "\n",
    "    fmt = '.2f' if normalize else 'd'\n",
    "    thresh = cm.max() / 2.\n",
    "    for i, j in itertools.product(range(cm.shape[0]), range(cm.shape[1])):\n",
    "        plt.text(j, i, format(cm[i, j], fmt), horizontalalignment=\"center\", color=\"white\" if cm[i, j] > thresh else \"black\")\n",
    "\n",
    "    plt.tight_layout()\n",
    "    plt.ylabel('True label')\n",
    "    plt.xlabel('Predicted label')"
   ]
  },
  {
   "cell_type": "code",
   "execution_count": 26,
   "id": "3a27577f-5df9-4891-bd14-35d6adfe0193",
   "metadata": {},
   "outputs": [
    {
     "name": "stdout",
     "output_type": "stream",
     "text": [
      "Confusion matrix, without normalization\n"
     ]
    },
    {
     "data": {
      "image/png": "[encoded data removed]",
      "text/plain": [
       "<Figure size 1296x504 with 2 Axes>"
      ]
     },
     "metadata": {
      "needs_background": "light"
     },
     "output_type": "display_data"
    }
   ],
   "source": [
    "plot_confusion_matrix(mask_cmt, ['wear', 'incorrect', 'not'])"
   ]
  },
  {
   "cell_type": "code",
   "execution_count": 27,
   "id": "5edf96e4-1e5f-4050-87bd-700084aabc72",
   "metadata": {},
   "outputs": [
    {
     "name": "stdout",
     "output_type": "stream",
     "text": [
      "Confusion matrix, without normalization\n"
     ]
    },
    {
     "data": {
      "image/png": "[encoded data removed]",
      "text/plain": [
       "<Figure size 1296x504 with 2 Axes>"
      ]
     },
     "metadata": {
      "needs_background": "light"
     },
     "output_type": "display_data"
    }
   ],
   "source": [
    "plot_confusion_matrix(gender_cmt, ['male','female'])"
   ]
  },
  {
   "cell_type": "code",
   "execution_count": 28,
   "id": "e0a744be-47e3-49e1-b6af-f65232dc3277",
   "metadata": {},
   "outputs": [
    {
     "name": "stdout",
     "output_type": "stream",
     "text": [
      "Confusion matrix, without normalization\n"
     ]
    },
    {
     "data": {
      "image/png": "[encoded data removed]",
      "text/plain": [
       "<Figure size 1296x504 with 2 Axes>"
      ]
     },
     "metadata": {
      "needs_background": "light"
     },
     "output_type": "display_data"
    }
   ],
   "source": [
    "plot_confusion_matrix(age_cmt, ['under','and','over'])"
   ]
  },
  {
   "cell_type": "markdown",
   "id": "0f39aeb2-a9ea-4875-b20b-de84afb987c0",
   "metadata": {},
   "source": [
    "# Inference"
   ]
  },
  {
   "cell_type": "code",
   "execution_count": 1,
   "id": "9b725edb-0def-4324-944a-badb7c4cd803",
   "metadata": {},
   "outputs": [],
   "source": [
    "import numpy as np\n",
    "import matplotlib.pyplot as plt\n",
    "import torch\n",
    "import torchvision\n",
    "from torchvision import transforms, datasets\n",
    "from torch.utils.data import Dataset, DataLoader, random_split, SubsetRandomSampler, WeightedRandomSampler\n",
    "from PIL import Image\n",
    "from dataset import MaskData, transform, TestDataset\n",
    "import model\n",
    "\n",
    "import GPUtil\n",
    "DEA_PATH = 'DEA'\n",
    "device = torch.device(\"cuda\" if torch.cuda.is_available() else \"cpu\")"
   ]
  },
  {
   "cell_type": "code",
   "execution_count": 2,
   "id": "bbdb4d58-f549-4307-ac82-7a46fcbe2ecb",
   "metadata": {},
   "outputs": [],
   "source": [
    "test_transform = transform()\n",
    "test_dataset = TestDataset(root='../../input/data', transform=test_transform)\n",
    "test_loader = DataLoader(test_dataset, shuffle=False)"
   ]
  },
  {
   "cell_type": "code",
   "execution_count": 3,
   "id": "b9152994-23e2-4de2-8c92-0274a93f86e0",
   "metadata": {},
   "outputs": [],
   "source": [
    "mask_model = torch.load(os.path.join(DEA_PATH,'mask_model.pt')).to(device)\n",
    "gender_model = torch.load(os.path.join(DEA_PATH,'gender_model.pt')).to(device)\n",
    "age_model = torch.load(os.path.join(DEA_PATH,'age_model.pt')).to(device)"
   ]
  },
  {
   "cell_type": "code",
   "execution_count": 4,
   "id": "a1a374cb-ccad-4f02-a65b-d098e38119b9",
   "metadata": {},
   "outputs": [
    {
     "name": "stdout",
     "output_type": "stream",
     "text": [
      "{'waer-male-under': 0, 'waer-male-and': 1, 'waer-male-over': 2, 'waer-female-under': 3, 'waer-female-and': 4, 'waer-female-over': 5, 'incorrect-male-under': 6, 'incorrect-male-and': 7, 'incorrect-male-over': 8, 'incorrect-female-under': 9, 'incorrect-female-and': 10, 'incorrect-female-over': 11, 'not-male-under': 12, 'not-male-and': 13, 'not-male-over': 14, 'not-female-under': 15, 'not-female-and': 16, 'not-female-over': 17}\n"
     ]
    }
   ],
   "source": [
    "class_dict = {}\n",
    "class_mask = ['waer','incorrect','not']\n",
    "class_gender =['male','female']\n",
    "class_age =['under','and','over']\n",
    "\n",
    "i = 0\n",
    "for mask in class_mask:\n",
    "    for gender in class_gender:\n",
    "        for age in class_age:\n",
    "            cls = '-'.join([mask, gender, age])\n",
    "            class_dict[cls] = i\n",
    "            #print(\"-\".join([mask,gender,age]))\n",
    "            i+= 1\n",
    "print(class_dict)"
   ]
  },
  {
   "cell_type": "code",
   "execution_count": 5,
   "id": "584b42ac-1375-4b58-ac80-a3f5a536d11e",
   "metadata": {},
   "outputs": [],
   "source": [
    "# def val(mask_mode, gender_model, age_model, test_loader):\n",
    "    \n",
    "#     all_predictions = []\n",
    "#     for images in test_loader:\n",
    "#         with torch.no_grad():\n",
    "#             images = images.to(device)\n",
    "#             pred = model(images)\n",
    "#             pred = pred.argmax(dim=-1)\n",
    "#             all_predictions.extend(pred.cpu().numpy())\n",
    "#     return all_predictions\n",
    "\n",
    "def val(mask_model, gender_model, age_model, test_loader):\n",
    "    all_predictions = []\n",
    "    i = 0\n",
    "    for image in test_loader:\n",
    "        target = []\n",
    "        with torch.no_grad():\n",
    "            image = image.to(device)\n",
    "            \n",
    "            mask_pred = mask_model(image)\n",
    "            mask_pred = mask_pred.argmax(dim=-1)\n",
    "            \n",
    "            gender_pred = gender_model(image)\n",
    "            gender_pred = gender_pred.argmax(dim=-1)\n",
    "            \n",
    "            age_pred = age_model(image)\n",
    "            age_pred = age_pred.argmax(dim=-1)\n",
    "            \n",
    "            target.append(class_mask[mask_pred.item()])\n",
    "            target.append(class_gender[gender_pred.item()])\n",
    "            target.append(class_age[age_pred.item()])\n",
    "            target = '-'.join(target)\n",
    "            \n",
    "            #print(mask_pred.item(), gender_pred.item(), age_pred.item(), target, class_dict[target])\n",
    "            all_predictions.append(class_dict[target])\n",
    "            \n",
    "    return all_predictions"
   ]
  },
  {
   "cell_type": "code",
   "execution_count": 6,
   "id": "6a843643-9f74-4ca8-be11-57e7961ddacc",
   "metadata": {},
   "outputs": [],
   "source": [
    "def save_result(all_predictions, test_dir):\n",
    "    submission = pd.read_csv(os.path.join(test_dir, 'info.csv'))\n",
    "    submission['ans'] = all_predictions\n",
    "    submission.to_csv(os.path.join(test_dir, 'submission.csv'), index=False)\n",
    "    print('test inference is done!')"
   ]
  },
  {
   "cell_type": "code",
   "execution_count": 7,
   "id": "4c2541c3-2223-4629-96af-4f1e5d945e82",
   "metadata": {},
   "outputs": [
    {
     "name": "stdout",
     "output_type": "stream",
     "text": [
      "2 0 0 not-male-under 12\n",
      "[12]\n",
      "0 0 1 waer-male-and 1\n",
      "[12, 1]\n",
      "2 0 1 not-male-and 13\n",
      "[12, 1, 13]\n",
      "2 0 2 not-male-over 14\n",
      "[12, 1, 13, 14]\n",
      "2 0 0 not-male-under 12\n",
      "[12, 1, 13, 14, 12]\n"
     ]
    }
   ],
   "source": [
    "all_predictions = val(mask_model, gender_model, age_model, test_loader)"
   ]
  },
  {
   "cell_type": "code",
   "execution_count": 8,
   "id": "4a420be6-0c1d-41b8-984f-b08485c1ccfe",
   "metadata": {},
   "outputs": [
    {
     "name": "stdout",
     "output_type": "stream",
     "text": [
      "test inference is done!\n"
     ]
    }
   ],
   "source": [
    "import os\n",
    "import pandas as pd\n",
    "save_result(all_predictions, '../../input/data/eval')"
   ]
  },
  {
   "cell_type": "code",
   "execution_count": 22,
   "id": "c76982ed-2383-4d0f-a940-74951e987eb4",
   "metadata": {},
   "outputs": [
    {
     "name": "stdout",
     "output_type": "stream",
     "text": [
      "None\n"
     ]
    }
   ],
   "source": [
    "print(all_predictions)"
   ]
  }
 ],
 "metadata": {
  "kernelspec": {
   "display_name": "Python 3 (ipykernel)",
   "language": "python",
   "name": "python3"
  },
  "language_info": {
   "codemirror_mode": {
    "name": "ipython",
    "version": 3
   },
   "file_extension": ".py",
   "mimetype": "text/x-python",
   "name": "python",
   "nbconvert_exporter": "python",
   "pygments_lexer": "ipython3",
   "version": "3.8.5"
  }
 },
 "nbformat": 4,
 "nbformat_minor": 5
}
