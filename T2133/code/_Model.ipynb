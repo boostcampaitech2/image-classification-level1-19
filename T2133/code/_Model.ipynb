{
 "cells": [
  {
   "cell_type": "code",
   "execution_count": 1,
   "id": "cd2c800b-7e6d-4f90-bd2d-62d45b7fff13",
   "metadata": {},
   "outputs": [],
   "source": [
    "from pprint import pprint\n",
    "\n",
    "import torch\n",
    "import torch.nn as nn\n",
    "import torch.nn.functional as F"
   ]
  },
  {
   "cell_type": "code",
   "execution_count": 2,
   "id": "d0c9ce02-b605-4720-8423-1b49f7496c1e",
   "metadata": {},
   "outputs": [],
   "source": [
    "class Model(nn.Module):\n",
    "    def __init__(self):\n",
    "        super(Model, self).__init__()\n",
    "        self.conv1 = nn.Conv2d(in_channels=1, out_channels=3, kernel_size=3, bias=True)\n",
    "        self.bn1 = nn.BatchNorm2d(num_features=3)\n",
    "        self.conv2 = nn.Conv2d(in_channels=3, out_channels=5, kernel_size=3, bias=False)\n",
    "\n",
    "    def forward(self, x):\n",
    "        x = F.relu(self.bn1(self.conv1(x)))\n",
    "        return F.relu(self.conv2(x))"
   ]
  },
  {
   "cell_type": "code",
   "execution_count": 3,
   "id": "54f4d3b1-61b5-4656-a62e-efa0f52999d2",
   "metadata": {},
   "outputs": [
    {
     "data": {
      "text/plain": [
       "Model(\n",
       "  (conv1): Conv2d(1, 3, kernel_size=(3, 3), stride=(1, 1))\n",
       "  (bn1): BatchNorm2d(3, eps=1e-05, momentum=0.1, affine=True, track_running_stats=True)\n",
       "  (conv2): Conv2d(3, 5, kernel_size=(3, 3), stride=(1, 1), bias=False)\n",
       ")"
      ]
     },
     "execution_count": 3,
     "metadata": {},
     "output_type": "execute_result"
    }
   ],
   "source": [
    "model = Model()\n",
    "model"
   ]
  },
  {
   "cell_type": "code",
   "execution_count": 4,
   "id": "72fd90ed-93da-42a0-925a-268895546ab5",
   "metadata": {},
   "outputs": [
    {
     "name": "stdout",
     "output_type": "stream",
     "text": [
      "conv1.weight         - size: torch.Size([3, 1, 3, 3])\n",
      "Parameter containing:\n",
      "tensor([[[[ 0.1403,  0.2459, -0.0607],\n",
      "          [-0.2462, -0.1182,  0.1726],\n",
      "          [-0.2423,  0.0874, -0.0659]]],\n",
      "\n",
      "\n",
      "        [[[ 0.0838, -0.2309, -0.0206],\n",
      "          [ 0.0691, -0.2268,  0.2027],\n",
      "          [-0.0167,  0.1790, -0.3173]]],\n",
      "\n",
      "\n",
      "        [[[-0.2586,  0.2341,  0.2704],\n",
      "          [ 0.0466,  0.0301,  0.3105],\n",
      "          [-0.2876,  0.2565,  0.0192]]]], requires_grad=True)\n",
      "----------------------------------------------------------------------------------------------------\n",
      "\n",
      "conv1.bias           - size: torch.Size([3])\n",
      "Parameter containing:\n",
      "tensor([ 0.2966, -0.1308,  0.2547], requires_grad=True)\n",
      "----------------------------------------------------------------------------------------------------\n",
      "\n",
      "bn1.weight           - size: torch.Size([3])\n",
      "Parameter containing:\n",
      "tensor([1., 1., 1.], requires_grad=True)\n",
      "----------------------------------------------------------------------------------------------------\n",
      "\n",
      "bn1.bias             - size: torch.Size([3])\n",
      "Parameter containing:\n",
      "tensor([0., 0., 0.], requires_grad=True)\n",
      "----------------------------------------------------------------------------------------------------\n",
      "\n",
      "conv2.weight         - size: torch.Size([5, 3, 3, 3])\n",
      "Parameter containing:\n",
      "tensor([[[[-0.1831, -0.0913,  0.0950],\n",
      "          [ 0.0592, -0.1073, -0.1051],\n",
      "          [ 0.1167, -0.0765,  0.1027]],\n",
      "\n",
      "         [[-0.0182, -0.1414, -0.0306],\n",
      "          [ 0.0648, -0.1428,  0.1669],\n",
      "          [ 0.0852, -0.1607,  0.1255]],\n",
      "\n",
      "         [[-0.0450, -0.1663,  0.0484],\n",
      "          [ 0.1305, -0.0332, -0.0942],\n",
      "          [-0.0005,  0.0880,  0.1710]]],\n",
      "\n",
      "\n",
      "        [[[ 0.0876, -0.1684, -0.0415],\n",
      "          [ 0.1027,  0.1147,  0.0092],\n",
      "          [ 0.1028, -0.1429, -0.1892]],\n",
      "\n",
      "         [[-0.1336, -0.1887, -0.1710],\n",
      "          [-0.0963, -0.0361, -0.1399],\n",
      "          [ 0.0358,  0.0363,  0.1757]],\n",
      "\n",
      "         [[ 0.0586,  0.0260, -0.0005],\n",
      "          [ 0.0136, -0.1474,  0.1620],\n",
      "          [ 0.1422,  0.1798,  0.0322]]],\n",
      "\n",
      "\n",
      "        [[[ 0.0033, -0.0231,  0.0797],\n",
      "          [-0.1820,  0.0398,  0.1556],\n",
      "          [ 0.0730, -0.1635,  0.1310]],\n",
      "\n",
      "         [[ 0.1303,  0.1333, -0.1369],\n",
      "          [-0.0795,  0.0673, -0.0457],\n",
      "          [ 0.0467,  0.1919, -0.1084]],\n",
      "\n",
      "         [[ 0.1753,  0.0618, -0.0427],\n",
      "          [-0.0791, -0.1489,  0.1876],\n",
      "          [-0.1700,  0.1337, -0.0522]]],\n",
      "\n",
      "\n",
      "        [[[ 0.0785,  0.1083,  0.0661],\n",
      "          [-0.0158, -0.1624,  0.1524],\n",
      "          [ 0.0085, -0.0800,  0.1139]],\n",
      "\n",
      "         [[ 0.1358,  0.0634, -0.1581],\n",
      "          [ 0.1118,  0.0231, -0.0879],\n",
      "          [-0.0845, -0.1390,  0.1121]],\n",
      "\n",
      "         [[-0.1291,  0.0493, -0.1032],\n",
      "          [ 0.1780, -0.1166, -0.1563],\n",
      "          [-0.0415, -0.1921,  0.1404]]],\n",
      "\n",
      "\n",
      "        [[[ 0.1362, -0.1550, -0.0032],\n",
      "          [ 0.1856, -0.0060,  0.0453],\n",
      "          [-0.1721, -0.0248,  0.0450]],\n",
      "\n",
      "         [[-0.0270,  0.0840,  0.1671],\n",
      "          [ 0.1778, -0.1593, -0.0280],\n",
      "          [ 0.1474,  0.0226,  0.0758]],\n",
      "\n",
      "         [[ 0.0023, -0.0812, -0.0377],\n",
      "          [-0.1068,  0.0972, -0.0983],\n",
      "          [-0.0810, -0.1542, -0.1450]]]], requires_grad=True)\n",
      "----------------------------------------------------------------------------------------------------\n",
      "\n"
     ]
    }
   ],
   "source": [
    "for param, weight in model.named_parameters():\n",
    "    print(f\"{param:20} - size: {weight.size()}\")\n",
    "    print(weight)\n",
    "    print(\"-\" * 100)\n",
    "    print()"
   ]
  },
  {
   "cell_type": "code",
   "execution_count": 5,
   "id": "6d44df85-d159-4bf7-8aba-3673809893f5",
   "metadata": {},
   "outputs": [
    {
     "name": "stdout",
     "output_type": "stream",
     "text": [
      "Parameter containing:\n",
      "tensor([[[[ 0.1403,  0.2459, -0.0607],\n",
      "          [-0.2462, -0.1182,  0.1726],\n",
      "          [-0.2423,  0.0874, -0.0659]]],\n",
      "\n",
      "\n",
      "        [[[ 0.0838, -0.2309, -0.0206],\n",
      "          [ 0.0691, -0.2268,  0.2027],\n",
      "          [-0.0167,  0.1790, -0.3173]]],\n",
      "\n",
      "\n",
      "        [[[-0.2586,  0.2341,  0.2704],\n",
      "          [ 0.0466,  0.0301,  0.3105],\n",
      "          [-0.2876,  0.2565,  0.0192]]]], requires_grad=True)\n",
      "Parameter containing:\n",
      "tensor([ 0.2966, -0.1308,  0.2547], requires_grad=True)\n"
     ]
    }
   ],
   "source": [
    "print(model.conv1.weight)\n",
    "print(model.conv1.bias)"
   ]
  },
  {
   "cell_type": "code",
   "execution_count": 6,
   "id": "381a4b4f-68e2-4431-bf39-d9a3e77dab9f",
   "metadata": {},
   "outputs": [
    {
     "name": "stdout",
     "output_type": "stream",
     "text": [
      "./runs/best.pth 폴더에 모델이 성공적으로 저장되었습니다.\n",
      "해당 폴더의 파일 리스트: ['best.pth']\n"
     ]
    }
   ],
   "source": [
    "import os\n",
    "\n",
    "save_folder = \"./runs/\"\n",
    "save_path = os.path.join(save_folder, \"best.pth\")   # ./runs/best.pth\n",
    "os.makedirs(save_folder, exist_ok=True)  \n",
    "\n",
    "torch.save(model.state_dict(), save_path)\n",
    "print(f\"{save_path} 폴더에 모델이 성공적으로 저장되었습니다.\")\n",
    "print(f\"해당 폴더의 파일 리스트: {os.listdir(save_folder)}\")"
   ]
  },
  {
   "cell_type": "code",
   "execution_count": 7,
   "id": "1a300def-b32e-4f40-b515-79a9615310bf",
   "metadata": {},
   "outputs": [
    {
     "name": "stdout",
     "output_type": "stream",
     "text": [
      "./runs/best.pth 에서 성공적으로 모델을 load 하였습니다.\n"
     ]
    }
   ],
   "source": [
    "new_model = Model()\n",
    "new_model.load_state_dict(torch.load(save_path))\n",
    "print(f\"{save_path} 에서 성공적으로 모델을 load 하였습니다.\")"
   ]
  },
  {
   "cell_type": "code",
   "execution_count": 8,
   "id": "6f81d06c-c430-4f95-bb80-111defa40715",
   "metadata": {},
   "outputs": [
    {
     "name": "stdout",
     "output_type": "stream",
     "text": [
      "파라미터 conv1.weight    에 대하여 trained 모델과 load 된 모델의 값이 같나요? -> True\n",
      "파라미터 conv1.bias      에 대하여 trained 모델과 load 된 모델의 값이 같나요? -> True\n",
      "파라미터 bn1.weight      에 대하여 trained 모델과 load 된 모델의 값이 같나요? -> True\n",
      "파라미터 bn1.bias        에 대하여 trained 모델과 load 된 모델의 값이 같나요? -> True\n",
      "파라미터 conv2.weight    에 대하여 trained 모델과 load 된 모델의 값이 같나요? -> True\n"
     ]
    }
   ],
   "source": [
    "for (name, trained_weight), (_, saved_weight) in zip(model.named_parameters(), new_model.named_parameters()):\n",
    "    is_equal = torch.equal(trained_weight, saved_weight)\n",
    "    print(f\"파라미터 {name:15} 에 대하여 trained 모델과 load 된 모델의 값이 같나요? -> {is_equal}\")"
   ]
  },
  {
   "cell_type": "code",
   "execution_count": 9,
   "id": "3f04f91b-bc58-4bda-8924-35b541afb5cc",
   "metadata": {},
   "outputs": [
    {
     "name": "stdout",
     "output_type": "stream",
     "text": [
      "파라미터 네임 conv1.weight              / 사이즈: torch.Size([3, 1, 3, 3])\n",
      "tensor([[[[ 0.1403,  0.2459, -0.0607],\n",
      "          [-0.2462, -0.1182,  0.1726],\n",
      "          [-0.2423,  0.0874, -0.0659]]],\n",
      "\n",
      "\n",
      "        [[[ 0.0838, -0.2309, -0.0206],\n",
      "          [ 0.0691, -0.2268,  0.2027],\n",
      "          [-0.0167,  0.1790, -0.3173]]],\n",
      "\n",
      "\n",
      "        [[[-0.2586,  0.2341,  0.2704],\n",
      "          [ 0.0466,  0.0301,  0.3105],\n",
      "          [-0.2876,  0.2565,  0.0192]]]])\n",
      "----------------------------------------------------------------------------------------------------\n",
      "\n",
      "파라미터 네임 conv1.bias                / 사이즈: torch.Size([3])\n",
      "tensor([ 0.2966, -0.1308,  0.2547])\n",
      "----------------------------------------------------------------------------------------------------\n",
      "\n",
      "파라미터 네임 bn1.weight                / 사이즈: torch.Size([3])\n",
      "tensor([1., 1., 1.])\n",
      "----------------------------------------------------------------------------------------------------\n",
      "\n",
      "파라미터 네임 bn1.bias                  / 사이즈: torch.Size([3])\n",
      "tensor([0., 0., 0.])\n",
      "----------------------------------------------------------------------------------------------------\n",
      "\n",
      "파라미터 네임 bn1.running_mean          / 사이즈: torch.Size([3])\n",
      "tensor([0., 0., 0.])\n",
      "----------------------------------------------------------------------------------------------------\n",
      "\n",
      "파라미터 네임 bn1.running_var           / 사이즈: torch.Size([3])\n",
      "tensor([1., 1., 1.])\n",
      "----------------------------------------------------------------------------------------------------\n",
      "\n",
      "파라미터 네임 bn1.num_batches_tracked   / 사이즈: torch.Size([])\n",
      "tensor(0)\n",
      "----------------------------------------------------------------------------------------------------\n",
      "\n",
      "파라미터 네임 conv2.weight              / 사이즈: torch.Size([5, 3, 3, 3])\n",
      "tensor([[[[-0.1831, -0.0913,  0.0950],\n",
      "          [ 0.0592, -0.1073, -0.1051],\n",
      "          [ 0.1167, -0.0765,  0.1027]],\n",
      "\n",
      "         [[-0.0182, -0.1414, -0.0306],\n",
      "          [ 0.0648, -0.1428,  0.1669],\n",
      "          [ 0.0852, -0.1607,  0.1255]],\n",
      "\n",
      "         [[-0.0450, -0.1663,  0.0484],\n",
      "          [ 0.1305, -0.0332, -0.0942],\n",
      "          [-0.0005,  0.0880,  0.1710]]],\n",
      "\n",
      "\n",
      "        [[[ 0.0876, -0.1684, -0.0415],\n",
      "          [ 0.1027,  0.1147,  0.0092],\n",
      "          [ 0.1028, -0.1429, -0.1892]],\n",
      "\n",
      "         [[-0.1336, -0.1887, -0.1710],\n",
      "          [-0.0963, -0.0361, -0.1399],\n",
      "          [ 0.0358,  0.0363,  0.1757]],\n",
      "\n",
      "         [[ 0.0586,  0.0260, -0.0005],\n",
      "          [ 0.0136, -0.1474,  0.1620],\n",
      "          [ 0.1422,  0.1798,  0.0322]]],\n",
      "\n",
      "\n",
      "        [[[ 0.0033, -0.0231,  0.0797],\n",
      "          [-0.1820,  0.0398,  0.1556],\n",
      "          [ 0.0730, -0.1635,  0.1310]],\n",
      "\n",
      "         [[ 0.1303,  0.1333, -0.1369],\n",
      "          [-0.0795,  0.0673, -0.0457],\n",
      "          [ 0.0467,  0.1919, -0.1084]],\n",
      "\n",
      "         [[ 0.1753,  0.0618, -0.0427],\n",
      "          [-0.0791, -0.1489,  0.1876],\n",
      "          [-0.1700,  0.1337, -0.0522]]],\n",
      "\n",
      "\n",
      "        [[[ 0.0785,  0.1083,  0.0661],\n",
      "          [-0.0158, -0.1624,  0.1524],\n",
      "          [ 0.0085, -0.0800,  0.1139]],\n",
      "\n",
      "         [[ 0.1358,  0.0634, -0.1581],\n",
      "          [ 0.1118,  0.0231, -0.0879],\n",
      "          [-0.0845, -0.1390,  0.1121]],\n",
      "\n",
      "         [[-0.1291,  0.0493, -0.1032],\n",
      "          [ 0.1780, -0.1166, -0.1563],\n",
      "          [-0.0415, -0.1921,  0.1404]]],\n",
      "\n",
      "\n",
      "        [[[ 0.1362, -0.1550, -0.0032],\n",
      "          [ 0.1856, -0.0060,  0.0453],\n",
      "          [-0.1721, -0.0248,  0.0450]],\n",
      "\n",
      "         [[-0.0270,  0.0840,  0.1671],\n",
      "          [ 0.1778, -0.1593, -0.0280],\n",
      "          [ 0.1474,  0.0226,  0.0758]],\n",
      "\n",
      "         [[ 0.0023, -0.0812, -0.0377],\n",
      "          [-0.1068,  0.0972, -0.0983],\n",
      "          [-0.0810, -0.1542, -0.1450]]]])\n",
      "----------------------------------------------------------------------------------------------------\n",
      "\n"
     ]
    }
   ],
   "source": [
    "for param, weight in model.state_dict().items():\n",
    "    print(f\"파라미터 네임 {param:25} / 사이즈: {weight.size()}\")\n",
    "    print(weight)\n",
    "    print(\"-\" * 100, end=\"\\n\\n\")"
   ]
  },
  {
   "cell_type": "code",
   "execution_count": 10,
   "id": "b136ed9a-baee-484d-b30f-b6dfc4efb661",
   "metadata": {},
   "outputs": [
    {
     "name": "stdout",
     "output_type": "stream",
     "text": [
      "model.state_dict() 의 Type : <class 'collections.OrderedDict'>\n"
     ]
    },
    {
     "data": {
      "text/plain": [
       "True"
      ]
     },
     "execution_count": 10,
     "metadata": {},
     "output_type": "execute_result"
    }
   ],
   "source": [
    "from collections import OrderedDict\n",
    "print(f\"model.state_dict() 의 Type : {type(model.state_dict())}\")\n",
    "isinstance(model.state_dict(), OrderedDict)"
   ]
  },
  {
   "cell_type": "code",
   "execution_count": 11,
   "id": "41ef81a4-3619-499e-b456-0f11413f67d7",
   "metadata": {},
   "outputs": [
    {
     "name": "stdout",
     "output_type": "stream",
     "text": [
      "['conv1.weight', 'conv1.bias', 'bn1.weight', 'bn1.bias', 'conv2.weight']\n",
      "\n",
      "['conv1.weight',\n",
      " 'conv1.bias',\n",
      " 'bn1.weight',\n",
      " 'bn1.bias',\n",
      " 'bn1.running_mean',\n",
      " 'bn1.running_var',\n",
      " 'bn1.num_batches_tracked',\n",
      " 'conv2.weight']\n"
     ]
    }
   ],
   "source": [
    "pprint([name for (name, param) in model.named_parameters()])  # named_parameters() : returns only parameters\n",
    "print()\n",
    "pprint(list(model.state_dict().keys()))                       # state_dict(): retuns both parameters and buffers"
   ]
  },
  {
   "cell_type": "code",
   "execution_count": 12,
   "id": "ceda2679-ae17-424d-a979-51a8608d40cf",
   "metadata": {},
   "outputs": [
    {
     "name": "stdout",
     "output_type": "stream",
     "text": [
      "데이터 디바이스: cpu\n",
      "데이터 디바이스: cuda:0\n",
      "데이터 디바이스: cpu\n"
     ]
    }
   ],
   "source": [
    "data = torch.randn(2,2, device=torch.device('cpu'))     # CPU 에 새로운 텐서 생성\n",
    "print(f\"데이터 디바이스: {data.device}\")\n",
    "\n",
    "data = torch.randn(2,2, device=torch.device('cuda:0'))  # GPU 0번에 새로운 텐서 생성\n",
    "print(f\"데이터 디바이스: {data.device}\")\n",
    "\n",
    "data = torch.randn(2,2)                                 # device 를 따로 지정하지 않으면 default 로 CPU 에 생성됩니다.\n",
    "print(f\"데이터 디바이스: {data.device}\")"
   ]
  },
  {
   "cell_type": "code",
   "execution_count": 13,
   "id": "1d5dee87-916b-4581-9f67-15c48f6b8a3d",
   "metadata": {},
   "outputs": [
    {
     "name": "stdout",
     "output_type": "stream",
     "text": [
      "파라미터 디바이스: cpu\n",
      "파라미터 디바이스: cpu\n",
      "파라미터 디바이스: cpu\n",
      "파라미터 디바이스: cpu\n",
      "파라미터 디바이스: cpu\n"
     ]
    }
   ],
   "source": [
    "model.cpu()\n",
    "for weight in model.parameters():\n",
    "    print(f\"파라미터 디바이스: {weight.device}\")"
   ]
  },
  {
   "cell_type": "code",
   "execution_count": 14,
   "id": "090411d2-7273-43cd-b209-75106c5d7d5a",
   "metadata": {},
   "outputs": [
    {
     "name": "stdout",
     "output_type": "stream",
     "text": [
      "파라미터 디바이스: cuda:0\n",
      "파라미터 디바이스: cuda:0\n",
      "파라미터 디바이스: cuda:0\n",
      "파라미터 디바이스: cuda:0\n",
      "파라미터 디바이스: cuda:0\n"
     ]
    }
   ],
   "source": [
    "model.cuda()\n",
    "for weight in model.parameters():\n",
    "    print(f\"파라미터 디바이스: {weight.device}\")"
   ]
  },
  {
   "cell_type": "code",
   "execution_count": 15,
   "id": "69b98707-415c-4fbd-8565-118694a0321f",
   "metadata": {},
   "outputs": [
    {
     "name": "stdout",
     "output_type": "stream",
     "text": [
      "파라미터 디바이스를 cpu 로 변경\n",
      "파라미터 디바이스: cpu\n",
      "파라미터 디바이스: cpu\n",
      "파라미터 디바이스: cpu\n",
      "파라미터 디바이스: cpu\n",
      "파라미터 디바이스: cpu\n",
      "\n",
      "파라미터 디바이스를 cuda 로 변경\n",
      "파라미터 디바이스: cuda:0\n",
      "파라미터 디바이스: cuda:0\n",
      "파라미터 디바이스: cuda:0\n",
      "파라미터 디바이스: cuda:0\n",
      "파라미터 디바이스: cuda:0\n",
      "\n"
     ]
    }
   ],
   "source": [
    "device_options = ['cpu', 'cuda']\n",
    "for device_option in device_options:\n",
    "    device = torch.device(device_option)\n",
    "    model.to(device)\n",
    "    \n",
    "    print(f\"파라미터 디바이스를 {device_option} 로 변경\")\n",
    "    for weight in model.parameters():\n",
    "        print(f\"파라미터 디바이스: {weight.device}\")\n",
    "    print()"
   ]
  },
  {
   "cell_type": "code",
   "execution_count": 16,
   "id": "1e2cc0c9-969b-42aa-a6ef-da0a4d1e260e",
   "metadata": {},
   "outputs": [
    {
     "name": "stdout",
     "output_type": "stream",
     "text": [
      "tensor([[-0.7219,  0.8320],\n",
      "        [-0.9980, -1.6041]])\n"
     ]
    }
   ],
   "source": [
    "data1 = torch.randn(2,2, device=torch.device('cpu'))\n",
    "data2 = torch.randn(2,2, device=torch.device('cpu'))\n",
    "print(data1 + data2)  # 두 텐서가 같은 device(CPU) 에 있기에 연산이 가능합니다."
   ]
  },
  {
   "cell_type": "code",
   "execution_count": 17,
   "id": "4a16431c-7ec0-4d48-b474-6fc2e7ec81d6",
   "metadata": {},
   "outputs": [
    {
     "ename": "RuntimeError",
     "evalue": "Expected all tensors to be on the same device, but found at least two devices, cuda:0 and cpu!",
     "output_type": "error",
     "traceback": [
      "\u001b[0;31m---------------------------------------------------------------------------\u001b[0m",
      "\u001b[0;31mRuntimeError\u001b[0m                              Traceback (most recent call last)",
      "\u001b[0;32m<ipython-input-17-243f39335071>\u001b[0m in \u001b[0;36m<module>\u001b[0;34m\u001b[0m\n\u001b[1;32m      1\u001b[0m \u001b[0mdata1\u001b[0m \u001b[0;34m=\u001b[0m \u001b[0mtorch\u001b[0m\u001b[0;34m.\u001b[0m\u001b[0mrandn\u001b[0m\u001b[0;34m(\u001b[0m\u001b[0;36m2\u001b[0m\u001b[0;34m,\u001b[0m\u001b[0;36m2\u001b[0m\u001b[0;34m,\u001b[0m \u001b[0mdevice\u001b[0m\u001b[0;34m=\u001b[0m\u001b[0mtorch\u001b[0m\u001b[0;34m.\u001b[0m\u001b[0mdevice\u001b[0m\u001b[0;34m(\u001b[0m\u001b[0;34m'cpu'\u001b[0m\u001b[0;34m)\u001b[0m\u001b[0;34m)\u001b[0m\u001b[0;34m\u001b[0m\u001b[0;34m\u001b[0m\u001b[0m\n\u001b[1;32m      2\u001b[0m \u001b[0mdata2\u001b[0m \u001b[0;34m=\u001b[0m \u001b[0mtorch\u001b[0m\u001b[0;34m.\u001b[0m\u001b[0mrandn\u001b[0m\u001b[0;34m(\u001b[0m\u001b[0;36m2\u001b[0m\u001b[0;34m,\u001b[0m\u001b[0;36m2\u001b[0m\u001b[0;34m,\u001b[0m \u001b[0mdevice\u001b[0m\u001b[0;34m=\u001b[0m\u001b[0mtorch\u001b[0m\u001b[0;34m.\u001b[0m\u001b[0mdevice\u001b[0m\u001b[0;34m(\u001b[0m\u001b[0;34m'cuda'\u001b[0m\u001b[0;34m)\u001b[0m\u001b[0;34m)\u001b[0m\u001b[0;34m\u001b[0m\u001b[0;34m\u001b[0m\u001b[0m\n\u001b[0;32m----> 3\u001b[0;31m \u001b[0mprint\u001b[0m\u001b[0;34m(\u001b[0m\u001b[0mdata1\u001b[0m \u001b[0;34m+\u001b[0m \u001b[0mdata2\u001b[0m\u001b[0;34m)\u001b[0m  \u001b[0;31m# 두 텐서가 다른 device(CPU, GPU) 에 있기에 연산이 불가능합니다.\u001b[0m\u001b[0;34m\u001b[0m\u001b[0;34m\u001b[0m\u001b[0m\n\u001b[0m",
      "\u001b[0;31mRuntimeError\u001b[0m: Expected all tensors to be on the same device, but found at least two devices, cuda:0 and cpu!"
     ]
    }
   ],
   "source": [
    "data1 = torch.randn(2,2, device=torch.device('cpu'))\n",
    "data2 = torch.randn(2,2, device=torch.device('cuda'))\n",
    "print(data1 + data2)  # 두 텐서가 다른 device(CPU, GPU) 에 있기에 연산이 불가능합니다."
   ]
  },
  {
   "cell_type": "code",
   "execution_count": 18,
   "id": "433c30c4-48f8-4d06-a496-ce6e63e35847",
   "metadata": {},
   "outputs": [
    {
     "name": "stdout",
     "output_type": "stream",
     "text": [
      "모델 output 사이즈: torch.Size([1, 5, 8, 8])\n",
      "tensor([[[[0.0000, 0.0000, 0.0000, 0.2123, 0.0000, 0.0000, 0.0255, 0.0000],\n",
      "          [0.0000, 0.4466, 0.0000, 0.0000, 0.0000, 0.0000, 0.0000, 0.0000],\n",
      "          [0.0127, 0.0000, 0.0617, 0.0000, 0.3319, 0.0000, 0.4552, 0.0000],\n",
      "          [0.2504, 0.0000, 0.2043, 0.1321, 0.0665, 0.5582, 0.2167, 0.3308],\n",
      "          [0.0000, 0.3592, 0.0939, 0.0000, 0.0000, 0.0000, 0.0000, 0.0000],\n",
      "          [0.1025, 0.0000, 0.0000, 0.4115, 0.0380, 0.0000, 0.0000, 0.0000],\n",
      "          [0.0000, 0.0000, 0.0000, 0.4421, 0.2344, 0.0882, 0.0000, 0.0000],\n",
      "          [0.5158, 0.2553, 0.0000, 0.0000, 0.3839, 0.0270, 0.2654, 0.2163]],\n",
      "\n",
      "         [[0.0000, 0.0000, 0.0960, 0.0025, 0.0000, 0.0203, 0.0000, 0.0000],\n",
      "          [0.1283, 0.0000, 0.0000, 0.0000, 0.0000, 0.0000, 0.2087, 0.2166],\n",
      "          [0.0000, 0.0000, 0.2113, 0.1103, 0.0000, 0.0000, 0.0000, 0.0000],\n",
      "          [0.0000, 0.0000, 0.0000, 0.3565, 0.0000, 0.0000, 0.0000, 0.4220],\n",
      "          [0.0000, 0.0811, 0.1923, 0.1342, 0.0000, 0.0000, 0.0000, 0.1377],\n",
      "          [0.0000, 0.0000, 0.0000, 0.0777, 0.0000, 0.0000, 0.0000, 0.4217],\n",
      "          [0.3485, 0.0000, 0.2883, 0.4593, 0.1591, 0.3462, 0.0000, 0.0000],\n",
      "          [0.3718, 0.0000, 0.0000, 0.4402, 0.3725, 0.0468, 0.0000, 0.0000]],\n",
      "\n",
      "         [[0.1528, 0.2014, 0.2098, 0.0104, 0.5005, 0.4348, 0.2248, 0.1790],\n",
      "          [0.0000, 0.0000, 0.0000, 0.0763, 0.0762, 0.2886, 0.3858, 0.0304],\n",
      "          [0.1319, 0.1991, 0.0000, 0.0000, 0.0000, 0.6367, 0.1577, 0.0000],\n",
      "          [0.0000, 0.7330, 0.0000, 0.0000, 0.3727, 0.4105, 0.0000, 0.0000],\n",
      "          [0.7478, 0.2023, 0.0000, 0.0000, 0.1128, 1.1516, 0.0000, 0.0288],\n",
      "          [0.1209, 0.7041, 0.0000, 0.0000, 0.0406, 0.6274, 0.4560, 0.2353],\n",
      "          [0.0000, 1.1644, 0.2249, 0.1056, 0.0000, 0.0144, 0.2155, 0.0053],\n",
      "          [0.0000, 0.3469, 0.3505, 0.0000, 0.0000, 0.0000, 0.1646, 0.0406]],\n",
      "\n",
      "         [[0.0000, 0.2951, 0.0000, 0.2941, 0.0083, 0.1225, 0.0000, 0.0000],\n",
      "          [0.0000, 0.0000, 0.0400, 0.0000, 0.0000, 0.6086, 0.0000, 0.0000],\n",
      "          [0.0699, 0.2720, 0.0000, 0.0000, 0.1654, 0.0000, 0.0000, 0.0201],\n",
      "          [0.4435, 0.0000, 0.0000, 0.4413, 0.0000, 0.1050, 0.0000, 0.3081],\n",
      "          [0.0321, 0.0000, 0.0000, 0.0000, 0.0045, 0.0340, 0.0000, 0.0717],\n",
      "          [0.0000, 0.3668, 0.0000, 0.2780, 0.1020, 0.0000, 0.2085, 0.0000],\n",
      "          [0.3026, 0.0000, 0.0000, 0.0000, 0.0000, 0.2096, 0.0000, 0.2183],\n",
      "          [0.0000, 0.5981, 0.2909, 0.0000, 0.0000, 0.0000, 0.6584, 0.0000]],\n",
      "\n",
      "         [[0.0847, 0.0000, 0.0935, 0.0656, 0.0000, 0.5015, 0.1377, 0.0000],\n",
      "          [0.0157, 0.0669, 0.0000, 0.1689, 0.1600, 0.0000, 0.0575, 0.0950],\n",
      "          [0.0000, 0.1224, 0.0826, 0.0000, 0.5364, 0.0000, 0.0000, 0.0000],\n",
      "          [0.2929, 0.0000, 0.0000, 0.0000, 0.1274, 0.0000, 0.0000, 0.0000],\n",
      "          [0.0000, 0.0000, 0.0000, 0.0632, 0.0000, 0.0054, 0.5659, 0.0000],\n",
      "          [0.0000, 0.0168, 0.0611, 0.0000, 0.1615, 0.0000, 0.0000, 0.1460],\n",
      "          [0.4192, 0.0000, 0.0285, 0.0665, 0.0000, 0.0000, 0.3432, 0.0794],\n",
      "          [0.0000, 0.0000, 0.0000, 0.0000, 0.0000, 0.0125, 0.0000, 0.0000]]]],\n",
      "       device='cuda:0', grad_fn=<ReluBackward0>)\n"
     ]
    }
   ],
   "source": [
    "dummy_input = torch.randn(1, 1, 12, 12, device=device)\n",
    "model.to(device)\n",
    "output = model(dummy_input)\n",
    "print(f\"모델 output 사이즈: {output.size()}\")\n",
    "print(output)"
   ]
  },
  {
   "cell_type": "code",
   "execution_count": 19,
   "id": "8924d32a-272a-4e7c-b013-e5e4659571ac",
   "metadata": {},
   "outputs": [
    {
     "name": "stdout",
     "output_type": "stream",
     "text": [
      "모델 ouput 사이즈: torch.Size([1, 5, 8, 8])\n"
     ]
    }
   ],
   "source": [
    "cpu_device = torch.device('cpu')\n",
    "gpu_device = torch.device('cuda')\n",
    "\n",
    "# device is same\n",
    "dummy_input = dummy_input.to(gpu_device)\n",
    "model.to(gpu_device)\n",
    "output = model(dummy_input)  # 잘 작동합니다 \n",
    "print(f\"모델 ouput 사이즈: {output.size()}\")"
   ]
  },
  {
   "cell_type": "code",
   "execution_count": 20,
   "id": "6ee95d7f-6f64-49b7-aeaf-3a12a0adbadd",
   "metadata": {},
   "outputs": [
    {
     "ename": "RuntimeError",
     "evalue": "Expected object of device type cuda but got device type cpu for argument #1 'self' in call to _thnn_conv2d_forward",
     "output_type": "error",
     "traceback": [
      "\u001b[0;31m---------------------------------------------------------------------------\u001b[0m",
      "\u001b[0;31mRuntimeError\u001b[0m                              Traceback (most recent call last)",
      "\u001b[0;32m<ipython-input-20-92144b071d21>\u001b[0m in \u001b[0;36m<module>\u001b[0;34m\u001b[0m\n\u001b[1;32m      4\u001b[0m \u001b[0;31m# device is different\u001b[0m\u001b[0;34m\u001b[0m\u001b[0;34m\u001b[0m\u001b[0;34m\u001b[0m\u001b[0m\n\u001b[1;32m      5\u001b[0m \u001b[0;31m# RuntimeError: Input type (torch.FloatTensor) and weight type (torch.cuda.FloatTensor) should be the same\u001b[0m\u001b[0;34m\u001b[0m\u001b[0;34m\u001b[0m\u001b[0;34m\u001b[0m\u001b[0m\n\u001b[0;32m----> 6\u001b[0;31m \u001b[0moutput\u001b[0m \u001b[0;34m=\u001b[0m \u001b[0mmodel\u001b[0m\u001b[0;34m(\u001b[0m\u001b[0mdummy_input\u001b[0m\u001b[0;34m)\u001b[0m  \u001b[0;31m# 에러 발생\u001b[0m\u001b[0;34m\u001b[0m\u001b[0;34m\u001b[0m\u001b[0m\n\u001b[0m\u001b[1;32m      7\u001b[0m \u001b[0mprint\u001b[0m\u001b[0;34m(\u001b[0m\u001b[0;34mf\"모델 ouput 사이즈: {output.size()}\"\u001b[0m\u001b[0;34m)\u001b[0m\u001b[0;34m\u001b[0m\u001b[0;34m\u001b[0m\u001b[0m\n",
      "\u001b[0;32m/opt/conda/lib/python3.8/site-packages/torch/nn/modules/module.py\u001b[0m in \u001b[0;36m_call_impl\u001b[0;34m(self, *input, **kwargs)\u001b[0m\n\u001b[1;32m    725\u001b[0m             \u001b[0mresult\u001b[0m \u001b[0;34m=\u001b[0m \u001b[0mself\u001b[0m\u001b[0;34m.\u001b[0m\u001b[0m_slow_forward\u001b[0m\u001b[0;34m(\u001b[0m\u001b[0;34m*\u001b[0m\u001b[0minput\u001b[0m\u001b[0;34m,\u001b[0m \u001b[0;34m**\u001b[0m\u001b[0mkwargs\u001b[0m\u001b[0;34m)\u001b[0m\u001b[0;34m\u001b[0m\u001b[0;34m\u001b[0m\u001b[0m\n\u001b[1;32m    726\u001b[0m         \u001b[0;32melse\u001b[0m\u001b[0;34m:\u001b[0m\u001b[0;34m\u001b[0m\u001b[0;34m\u001b[0m\u001b[0m\n\u001b[0;32m--> 727\u001b[0;31m             \u001b[0mresult\u001b[0m \u001b[0;34m=\u001b[0m \u001b[0mself\u001b[0m\u001b[0;34m.\u001b[0m\u001b[0mforward\u001b[0m\u001b[0;34m(\u001b[0m\u001b[0;34m*\u001b[0m\u001b[0minput\u001b[0m\u001b[0;34m,\u001b[0m \u001b[0;34m**\u001b[0m\u001b[0mkwargs\u001b[0m\u001b[0;34m)\u001b[0m\u001b[0;34m\u001b[0m\u001b[0;34m\u001b[0m\u001b[0m\n\u001b[0m\u001b[1;32m    728\u001b[0m         for hook in itertools.chain(\n\u001b[1;32m    729\u001b[0m                 \u001b[0m_global_forward_hooks\u001b[0m\u001b[0;34m.\u001b[0m\u001b[0mvalues\u001b[0m\u001b[0;34m(\u001b[0m\u001b[0;34m)\u001b[0m\u001b[0;34m,\u001b[0m\u001b[0;34m\u001b[0m\u001b[0;34m\u001b[0m\u001b[0m\n",
      "\u001b[0;32m<ipython-input-2-5f680354f5ab>\u001b[0m in \u001b[0;36mforward\u001b[0;34m(self, x)\u001b[0m\n\u001b[1;32m      7\u001b[0m \u001b[0;34m\u001b[0m\u001b[0m\n\u001b[1;32m      8\u001b[0m     \u001b[0;32mdef\u001b[0m \u001b[0mforward\u001b[0m\u001b[0;34m(\u001b[0m\u001b[0mself\u001b[0m\u001b[0;34m,\u001b[0m \u001b[0mx\u001b[0m\u001b[0;34m)\u001b[0m\u001b[0;34m:\u001b[0m\u001b[0;34m\u001b[0m\u001b[0;34m\u001b[0m\u001b[0m\n\u001b[0;32m----> 9\u001b[0;31m         \u001b[0mx\u001b[0m \u001b[0;34m=\u001b[0m \u001b[0mF\u001b[0m\u001b[0;34m.\u001b[0m\u001b[0mrelu\u001b[0m\u001b[0;34m(\u001b[0m\u001b[0mself\u001b[0m\u001b[0;34m.\u001b[0m\u001b[0mbn1\u001b[0m\u001b[0;34m(\u001b[0m\u001b[0mself\u001b[0m\u001b[0;34m.\u001b[0m\u001b[0mconv1\u001b[0m\u001b[0;34m(\u001b[0m\u001b[0mx\u001b[0m\u001b[0;34m)\u001b[0m\u001b[0;34m)\u001b[0m\u001b[0;34m)\u001b[0m\u001b[0;34m\u001b[0m\u001b[0;34m\u001b[0m\u001b[0m\n\u001b[0m\u001b[1;32m     10\u001b[0m         \u001b[0;32mreturn\u001b[0m \u001b[0mF\u001b[0m\u001b[0;34m.\u001b[0m\u001b[0mrelu\u001b[0m\u001b[0;34m(\u001b[0m\u001b[0mself\u001b[0m\u001b[0;34m.\u001b[0m\u001b[0mconv2\u001b[0m\u001b[0;34m(\u001b[0m\u001b[0mx\u001b[0m\u001b[0;34m)\u001b[0m\u001b[0;34m)\u001b[0m\u001b[0;34m\u001b[0m\u001b[0;34m\u001b[0m\u001b[0m\n",
      "\u001b[0;32m/opt/conda/lib/python3.8/site-packages/torch/nn/modules/module.py\u001b[0m in \u001b[0;36m_call_impl\u001b[0;34m(self, *input, **kwargs)\u001b[0m\n\u001b[1;32m    725\u001b[0m             \u001b[0mresult\u001b[0m \u001b[0;34m=\u001b[0m \u001b[0mself\u001b[0m\u001b[0;34m.\u001b[0m\u001b[0m_slow_forward\u001b[0m\u001b[0;34m(\u001b[0m\u001b[0;34m*\u001b[0m\u001b[0minput\u001b[0m\u001b[0;34m,\u001b[0m \u001b[0;34m**\u001b[0m\u001b[0mkwargs\u001b[0m\u001b[0;34m)\u001b[0m\u001b[0;34m\u001b[0m\u001b[0;34m\u001b[0m\u001b[0m\n\u001b[1;32m    726\u001b[0m         \u001b[0;32melse\u001b[0m\u001b[0;34m:\u001b[0m\u001b[0;34m\u001b[0m\u001b[0;34m\u001b[0m\u001b[0m\n\u001b[0;32m--> 727\u001b[0;31m             \u001b[0mresult\u001b[0m \u001b[0;34m=\u001b[0m \u001b[0mself\u001b[0m\u001b[0;34m.\u001b[0m\u001b[0mforward\u001b[0m\u001b[0;34m(\u001b[0m\u001b[0;34m*\u001b[0m\u001b[0minput\u001b[0m\u001b[0;34m,\u001b[0m \u001b[0;34m**\u001b[0m\u001b[0mkwargs\u001b[0m\u001b[0;34m)\u001b[0m\u001b[0;34m\u001b[0m\u001b[0;34m\u001b[0m\u001b[0m\n\u001b[0m\u001b[1;32m    728\u001b[0m         for hook in itertools.chain(\n\u001b[1;32m    729\u001b[0m                 \u001b[0m_global_forward_hooks\u001b[0m\u001b[0;34m.\u001b[0m\u001b[0mvalues\u001b[0m\u001b[0;34m(\u001b[0m\u001b[0;34m)\u001b[0m\u001b[0;34m,\u001b[0m\u001b[0;34m\u001b[0m\u001b[0;34m\u001b[0m\u001b[0m\n",
      "\u001b[0;32m/opt/conda/lib/python3.8/site-packages/torch/nn/modules/conv.py\u001b[0m in \u001b[0;36mforward\u001b[0;34m(self, input)\u001b[0m\n\u001b[1;32m    421\u001b[0m \u001b[0;34m\u001b[0m\u001b[0m\n\u001b[1;32m    422\u001b[0m     \u001b[0;32mdef\u001b[0m \u001b[0mforward\u001b[0m\u001b[0;34m(\u001b[0m\u001b[0mself\u001b[0m\u001b[0;34m,\u001b[0m \u001b[0minput\u001b[0m\u001b[0;34m:\u001b[0m \u001b[0mTensor\u001b[0m\u001b[0;34m)\u001b[0m \u001b[0;34m->\u001b[0m \u001b[0mTensor\u001b[0m\u001b[0;34m:\u001b[0m\u001b[0;34m\u001b[0m\u001b[0;34m\u001b[0m\u001b[0m\n\u001b[0;32m--> 423\u001b[0;31m         \u001b[0;32mreturn\u001b[0m \u001b[0mself\u001b[0m\u001b[0;34m.\u001b[0m\u001b[0m_conv_forward\u001b[0m\u001b[0;34m(\u001b[0m\u001b[0minput\u001b[0m\u001b[0;34m,\u001b[0m \u001b[0mself\u001b[0m\u001b[0;34m.\u001b[0m\u001b[0mweight\u001b[0m\u001b[0;34m)\u001b[0m\u001b[0;34m\u001b[0m\u001b[0;34m\u001b[0m\u001b[0m\n\u001b[0m\u001b[1;32m    424\u001b[0m \u001b[0;34m\u001b[0m\u001b[0m\n\u001b[1;32m    425\u001b[0m \u001b[0;32mclass\u001b[0m \u001b[0mConv3d\u001b[0m\u001b[0;34m(\u001b[0m\u001b[0m_ConvNd\u001b[0m\u001b[0;34m)\u001b[0m\u001b[0;34m:\u001b[0m\u001b[0;34m\u001b[0m\u001b[0;34m\u001b[0m\u001b[0m\n",
      "\u001b[0;32m/opt/conda/lib/python3.8/site-packages/torch/nn/modules/conv.py\u001b[0m in \u001b[0;36m_conv_forward\u001b[0;34m(self, input, weight)\u001b[0m\n\u001b[1;32m    417\u001b[0m                             \u001b[0mweight\u001b[0m\u001b[0;34m,\u001b[0m \u001b[0mself\u001b[0m\u001b[0;34m.\u001b[0m\u001b[0mbias\u001b[0m\u001b[0;34m,\u001b[0m \u001b[0mself\u001b[0m\u001b[0;34m.\u001b[0m\u001b[0mstride\u001b[0m\u001b[0;34m,\u001b[0m\u001b[0;34m\u001b[0m\u001b[0;34m\u001b[0m\u001b[0m\n\u001b[1;32m    418\u001b[0m                             _pair(0), self.dilation, self.groups)\n\u001b[0;32m--> 419\u001b[0;31m         return F.conv2d(input, weight, self.bias, self.stride,\n\u001b[0m\u001b[1;32m    420\u001b[0m                         self.padding, self.dilation, self.groups)\n\u001b[1;32m    421\u001b[0m \u001b[0;34m\u001b[0m\u001b[0m\n",
      "\u001b[0;31mRuntimeError\u001b[0m: Expected object of device type cuda but got device type cpu for argument #1 'self' in call to _thnn_conv2d_forward"
     ]
    }
   ],
   "source": [
    "dummy_input = dummy_input.to(cpu_device)\n",
    "model.to(gpu_device)\n",
    "\n",
    "# device is different\n",
    "# RuntimeError: Input type (torch.FloatTensor) and weight type (torch.cuda.FloatTensor) should be the same\n",
    "output = model(dummy_input)  # 에러 발생\n",
    "print(f\"모델 ouput 사이즈: {output.size()}\")"
   ]
  },
  {
   "cell_type": "code",
   "execution_count": 21,
   "id": "76c2b5b0-92de-42d9-a4f3-03723da7d31e",
   "metadata": {},
   "outputs": [
    {
     "name": "stdout",
     "output_type": "stream",
     "text": [
      "파라미터 conv1.weight    가 gradient 를 tracking 하나요? -> False\n",
      "파라미터 conv1.bias      가 gradient 를 tracking 하나요? -> False\n",
      "파라미터 bn1.weight      가 gradient 를 tracking 하나요? -> False\n",
      "파라미터 bn1.bias        가 gradient 를 tracking 하나요? -> False\n",
      "파라미터 conv2.weight    가 gradient 를 tracking 하나요? -> False\n"
     ]
    }
   ],
   "source": [
    "# requires_grad = False\n",
    "model.requires_grad_(requires_grad=False)\n",
    "for param, weight in model.named_parameters():\n",
    "    print(f\"파라미터 {param:15} 가 gradient 를 tracking 하나요? -> {weight.requires_grad}\")"
   ]
  },
  {
   "cell_type": "code",
   "execution_count": 22,
   "id": "e56582b4-4cfe-4df9-8b13-f3937aa7d67c",
   "metadata": {},
   "outputs": [
    {
     "name": "stdout",
     "output_type": "stream",
     "text": [
      "파라미터 conv1.weight    가 gradient 를 tracking 하나요? -> True\n",
      "파라미터 conv1.bias      가 gradient 를 tracking 하나요? -> True\n",
      "파라미터 bn1.weight      가 gradient 를 tracking 하나요? -> True\n",
      "파라미터 bn1.bias        가 gradient 를 tracking 하나요? -> True\n",
      "파라미터 conv2.weight    가 gradient 를 tracking 하나요? -> True\n"
     ]
    }
   ],
   "source": [
    "# requires_grad = True\n",
    "model.requires_grad_(requires_grad=True)\n",
    "for param, weight in model.named_parameters():\n",
    "    print(f\"파라미터 {param:15} 가 gradient 를 tracking 하나요? -> {weight.requires_grad}\")"
   ]
  },
  {
   "cell_type": "code",
   "execution_count": 23,
   "id": "4dbb80da-ab11-42f9-9a42-87b0b68ced3b",
   "metadata": {},
   "outputs": [
    {
     "name": "stdout",
     "output_type": "stream",
     "text": [
      "model.bn1.training: True\n"
     ]
    }
   ],
   "source": [
    "model.train()  # train mode 로 전환\n",
    "print(f\"model.bn1.training: {model.bn1.training}\")"
   ]
  },
  {
   "cell_type": "code",
   "execution_count": 24,
   "id": "f80a8eca-0114-4e73-b19a-748005ef1477",
   "metadata": {},
   "outputs": [
    {
     "name": "stdout",
     "output_type": "stream",
     "text": [
      "model.bn1.training: False\n"
     ]
    }
   ],
   "source": [
    "model.eval()  # eval mode 로 전환\n",
    "print(f\"model.bn1.training: {model.bn1.training}\")"
   ]
  },
  {
   "cell_type": "code",
   "execution_count": 25,
   "id": "db205f94-9939-4e03-9fb5-6aeafbf2ad09",
   "metadata": {},
   "outputs": [
    {
     "data": {
      "text/plain": [
       "AlexNet(\n",
       "  (features): Sequential(\n",
       "    (0): Conv2d(3, 64, kernel_size=(11, 11), stride=(4, 4), padding=(2, 2))\n",
       "    (1): ReLU(inplace=True)\n",
       "    (2): MaxPool2d(kernel_size=3, stride=2, padding=0, dilation=1, ceil_mode=False)\n",
       "    (3): Conv2d(64, 192, kernel_size=(5, 5), stride=(1, 1), padding=(2, 2))\n",
       "    (4): ReLU(inplace=True)\n",
       "    (5): MaxPool2d(kernel_size=3, stride=2, padding=0, dilation=1, ceil_mode=False)\n",
       "    (6): Conv2d(192, 384, kernel_size=(3, 3), stride=(1, 1), padding=(1, 1))\n",
       "    (7): ReLU(inplace=True)\n",
       "    (8): Conv2d(384, 256, kernel_size=(3, 3), stride=(1, 1), padding=(1, 1))\n",
       "    (9): ReLU(inplace=True)\n",
       "    (10): Conv2d(256, 256, kernel_size=(3, 3), stride=(1, 1), padding=(1, 1))\n",
       "    (11): ReLU(inplace=True)\n",
       "    (12): MaxPool2d(kernel_size=3, stride=2, padding=0, dilation=1, ceil_mode=False)\n",
       "  )\n",
       "  (avgpool): AdaptiveAvgPool2d(output_size=(6, 6))\n",
       "  (classifier): Sequential(\n",
       "    (0): Dropout(p=0.5, inplace=False)\n",
       "    (1): Linear(in_features=9216, out_features=4096, bias=True)\n",
       "    (2): ReLU(inplace=True)\n",
       "    (3): Dropout(p=0.5, inplace=False)\n",
       "    (4): Linear(in_features=4096, out_features=4096, bias=True)\n",
       "    (5): ReLU(inplace=True)\n",
       "    (6): Linear(in_features=4096, out_features=1000, bias=True)\n",
       "  )\n",
       ")"
      ]
     },
     "execution_count": 25,
     "metadata": {},
     "output_type": "execute_result"
    }
   ],
   "source": [
    "from torchvision.models import alexnet\n",
    "model = alexnet()\n",
    "model"
   ]
  },
  {
   "cell_type": "code",
   "execution_count": null,
   "id": "3f1ea3eb-1d7c-44e3-9ce2-2dfc9c243e89",
   "metadata": {},
   "outputs": [],
   "source": []
  }
 ],
 "metadata": {
  "kernelspec": {
   "display_name": "Python 3 (ipykernel)",
   "language": "python",
   "name": "python3"
  },
  "language_info": {
   "codemirror_mode": {
    "name": "ipython",
    "version": 3
   },
   "file_extension": ".py",
   "mimetype": "text/x-python",
   "name": "python",
   "nbconvert_exporter": "python",
   "pygments_lexer": "ipython3",
   "version": "3.8.5"
  }
 },
 "nbformat": 4,
 "nbformat_minor": 5
}
